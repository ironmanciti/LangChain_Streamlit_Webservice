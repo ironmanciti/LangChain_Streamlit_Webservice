{
 "cells": [
  {
   "cell_type": "markdown",
   "id": "oN_ewigHqpO0",
   "metadata": {
    "id": "oN_ewigHqpO0"
   },
   "source": [
    "# 구조화된 출력 (Structured Output)\n",
    "\n",
    "**텍스트를 라벨로 분류하기**\n",
    "\n",
    "**태깅(Tagging)**이란 문서의 종류를 분류하여 **라벨링(Labeling)**하는 것을 의미합니다: 예) 긍정적, 부정적, 중립적\n",
    "\n",
    "![이미지 설명](https://github.com/langchain-ai/langchain/blob/master/docs/static/img/tagging.png?raw=1)\n",
    "\n",
    "---\n",
    "\n",
    "## **개요 (Overview)**  \n",
    "\n",
    "**태깅(Tagging)**은 몇 가지 주요 구성 요소로 이루어집니다:  \n",
    "\n",
    "- **`function`**: 추출(Extraction)과 마찬가지로, 태깅은 함수(Functions)를 사용하여 모델이 문서를 어떻게 태깅해야 하는지 명시합니다.  \n",
    "- **`schema`**: 문서를 어떻게 태깅할지 정의합니다 --> Pydantic 데이터 모델을 이용하여 정의"
   ]
  },
  {
   "cell_type": "code",
   "execution_count": null,
   "id": "663bd228",
   "metadata": {},
   "outputs": [],
   "source": [
    "# !pip install -qU \\\n",
    "# python-dotenv \\\n",
    "# langchain \\\n",
    "# langchain-community \\\n",
    "# openai \\\n",
    "# anthropic \\\n",
    "# langchain-openai \\\n",
    "# langchain-anthropic \\\n",
    "# langchain-google-genai \\\n",
    "# python-dotenv"
   ]
  },
  {
   "cell_type": "code",
   "execution_count": 1,
   "id": "a1d97476",
   "metadata": {},
   "outputs": [
    {
     "data": {
      "text/plain": [
       "True"
      ]
     },
     "execution_count": 1,
     "metadata": {},
     "output_type": "execute_result"
    }
   ],
   "source": [
    "import os\n",
    "from dotenv import load_dotenv\n",
    "load_dotenv()"
   ]
  },
  {
   "cell_type": "code",
   "execution_count": 2,
   "id": "54849d2f",
   "metadata": {},
   "outputs": [],
   "source": [
    "from langchain_openai import ChatOpenAI\n",
    "\n",
    "llm = ChatOpenAI(model=\"gpt-4o-mini\")"
   ]
  },
  {
   "cell_type": "markdown",
   "id": "b8ca3f93",
   "metadata": {
    "id": "b8ca3f93"
   },
   "source": [
    "## Schema 정의와 도구 호출 **  \n",
    "\n",
    "LangChain에서 OpenAI의 **도구 호출(Tool Calling)** 기능을 사용하여 태깅을 수행하는 간단한 예제를 살펴보겠습니다.  \n",
    "\n",
    "- OpenAI 모델에서 지원하는 `with_structured_output` 메서드를 사용할 것입니다.  \n",
    "\n",
    "스키마에 몇 가지 속성과 예상 유형을 추가하여 Pydantic 모델을 지정해 보겠습니다."
   ]
  },
  {
   "cell_type": "code",
   "execution_count": 13,
   "id": "8d38db89",
   "metadata": {},
   "outputs": [],
   "source": [
    "from langchain_core.prompts import ChatPromptTemplate\n",
    "from langchain_openai import ChatOpenAI\n",
    "from pydantic import BaseModel, Field\n",
    "\n",
    "# 프롬프트 템플릿 정의\n",
    "# 주어진 텍스트에서 필요한 정보를 추출하도록 지침 제공\n",
    "tagging_prompt = ChatPromptTemplate.from_template(\n",
    "\"\"\"\n",
    "다음 글에서 원하는 정보를 추출하세요.\n",
    "'Classification' 함수에 언급된 속성만 추출하세요.\n",
    "\n",
    "글:\n",
    "{input}\n",
    "\"\"\"\n",
    ")\n",
    "\n",
    "# Pydantic 데이터 모델을 이용하여 텍스트에서 추출할 속성 정의\n",
    "class Classification_1(BaseModel):\n",
    "    sentiment: str = Field(description=\"텍스트의 감정\")\n",
    "    agressiveness: int = Field(\n",
    "        description=\"텍스트가 1~10점 척도로 얼마나 공격적인지를 나타냅니다.\"\n",
    "    )\n",
    "\n",
    "# OpenAI GPT-4o-mini 모델을 사용하여 Structured Output(구조화된 출력) 생성\n",
    "llm = ChatOpenAI(model=\"gpt-4o-mini\", temperature=0).with_structured_output(Classification_1)"
   ]
  },
  {
   "cell_type": "code",
   "execution_count": 14,
   "id": "c238a91c",
   "metadata": {},
   "outputs": [
    {
     "name": "stdout",
     "output_type": "stream",
     "text": [
      "sentiment='기쁨' agressiveness=1\n"
     ]
    },
    {
     "data": {
      "text/plain": [
       "Classification_1(sentiment='기쁨', agressiveness=1)"
      ]
     },
     "execution_count": 14,
     "metadata": {},
     "output_type": "execute_result"
    }
   ],
   "source": [
    "inp = \"너를 만나게 되어 정말 기뻐! 우리는 아주 좋은 친구가 될 것 같아!\"\n",
    "\n",
    "prompt = tagging_prompt.invoke({\"input\": inp})\n",
    "response = llm.invoke(prompt)\n",
    "\n",
    "print(response)\n",
    "response"
   ]
  },
  {
   "cell_type": "markdown",
   "id": "ff3cf30d",
   "metadata": {
    "id": "ff3cf30d"
   },
   "source": [
    "사전 출력을 원하면 `.model_dump()`를 호출하면 됩니다."
   ]
  },
  {
   "cell_type": "code",
   "execution_count": 15,
   "id": "6b65446f",
   "metadata": {},
   "outputs": [
    {
     "data": {
      "text/plain": [
       "{'sentiment': '기쁨', 'agressiveness': 1}"
      ]
     },
     "execution_count": 15,
     "metadata": {},
     "output_type": "execute_result"
    }
   ],
   "source": [
    "response.model_dump()"
   ]
  },
  {
   "cell_type": "markdown",
   "id": "d921bb53",
   "metadata": {
    "id": "d921bb53"
   },
   "source": [
    "예제에서 볼 수 있듯이, 모델은 우리가 원하는 바를 정확하게 해석합니다.  \n",
    "\n",
    "다음 섹션에서는 이러한 결과를 어떻게 제어할 수 있는지 살펴보겠습니다."
   ]
  },
  {
   "cell_type": "markdown",
   "id": "bebb2f83",
   "metadata": {
    "id": "bebb2f83"
   },
   "source": [
    "## **더 세밀한 출력 제어**\n",
    "\n",
    "**스키마(schema)**를 더 자세히 정의하면 모델의 출력을 더 세밀하게 제어할 수 있습니다.  \n",
    "\n",
    "구체적으로 다음을 정의할 수 있습니다:  \n",
    "\n",
    "- **각 속성의 가능한 값**  \n",
    "- **속성을 모델이 정확하게 이해할 수 있도록 설명 추가**  \n",
    "- **반드시 반환해야 할 필수 속성**  "
   ]
  },
  {
   "cell_type": "markdown",
   "id": "69ef0b9a",
   "metadata": {
    "id": "69ef0b9a"
   },
   "source": [
    "이전에 언급한 각 요소를 제어하기 위해 **Enums**를 사용하여 우리의 **Pydantic 모델**을 다시 선언해봅시다.\n",
    "\n"
   ]
  },
  {
   "cell_type": "code",
   "execution_count": 17,
   "id": "be76084e",
   "metadata": {},
   "outputs": [],
   "source": [
    "class Classification_2(BaseModel):\n",
    "    sentiment: str = Field(..., enum=[\"행복하다\", \"중립적\", \"슬프다\"])\n",
    "    aggressiveness: int = Field(\n",
    "        ...,\n",
    "        description=\"문장이 얼마나 공격적인지를 나타내며 숫자가 높을수록 더 공격적입니다.\",\n",
    "        enum=[1, 2, 3, 4, 5],\n",
    "    )\n",
    "\n",
    "# OpenAI GPT-4o-mini 모델을 사용하여 Structured Output(구조화된 출력) 생성\n",
    "llm = ChatOpenAI(model=\"gpt-4o-mini\", temperature=0).with_structured_output(Classification_2)"
   ]
  },
  {
   "cell_type": "markdown",
   "id": "5ded2332",
   "metadata": {
    "id": "5ded2332"
   },
   "source": [
    "이제 답변은 우리가 예상하는 방식으로 제한될 것입니다!"
   ]
  },
  {
   "cell_type": "code",
   "execution_count": 18,
   "id": "fd707ae0",
   "metadata": {},
   "outputs": [
    {
     "name": "stdout",
     "output_type": "stream",
     "text": [
      "sentiment='행복하다' aggressiveness=1\n"
     ]
    },
    {
     "data": {
      "text/plain": [
       "Classification_2(sentiment='행복하다', aggressiveness=1)"
      ]
     },
     "execution_count": 18,
     "metadata": {},
     "output_type": "execute_result"
    }
   ],
   "source": [
    "inp = \"너를 만나게 되어 정말 기뻐! 우리는 아주 좋은 친구가 될 것 같아!\"\n",
    "\n",
    "prompt = tagging_prompt.invoke({\"input\": inp})\n",
    "response = llm.invoke(prompt)\n",
    "\n",
    "print(response)\n",
    "response"
   ]
  },
  {
   "cell_type": "code",
   "execution_count": 19,
   "id": "51f0779a",
   "metadata": {},
   "outputs": [
    {
     "data": {
      "text/plain": [
       "Classification_2(sentiment='슬프다', aggressiveness=5)"
      ]
     },
     "execution_count": 19,
     "metadata": {},
     "output_type": "execute_result"
    }
   ],
   "source": [
    "inp = \"너에게 정말 화가 나! 제대로 혼내줄 거야!\"\n",
    "prompt = tagging_prompt.invoke({\"input\": inp})\n",
    "llm.invoke(prompt)"
   ]
  },
  {
   "cell_type": "code",
   "execution_count": 20,
   "id": "3beda18d",
   "metadata": {},
   "outputs": [
    {
     "data": {
      "text/plain": [
       "Classification_2(sentiment='중립적', aggressiveness=1)"
      ]
     },
     "execution_count": 20,
     "metadata": {},
     "output_type": "execute_result"
    }
   ],
   "source": [
    "inp = \"여기 날씨는 괜찮아요, 코트 하나 없이도 밖에 나갈 수 있어요\"\n",
    "prompt = tagging_prompt.invoke({\"input\": inp})\n",
    "llm.invoke(prompt)"
   ]
  },
  {
   "cell_type": "markdown",
   "id": "e92c582f-592d-4ea4-86a4-38dc99775af6",
   "metadata": {},
   "source": [
    "### **구조화된 출력 (Structured Outputs)과 함수 호출**\n",
    " \n",
    "챗봇과 같은 많은 애플리케이션에서는 모델이 사용자에게 **자연어로 직접 응답**해야 합니다. 그러나 경우에 따라 모델이 **구조화된 형식(structured format)**으로 출력을 제공해야 할 필요가 있습니다.  \n",
    "\n",
    "예를 들어, 모델의 출력을 **데이터베이스에 저장**해야 하는 상황에서 출력이 데이터베이스 **스키마(schema)**에 맞도록 보장해야 할 수 있습니다.  \n",
    "\n",
    "이러한 필요성은 **구조화된 출력(Structured Output)** 개념을 부각시키며, 이를 통해 모델이 **특정 출력 구조**를 따르도록 지시할 수 있습니다.  \n",
    "\n",
    "**핵심 포인트:**  \n",
    "- 자연어 응답이 아닌 **구조화된 데이터**로 응답.  \n",
    "- 데이터베이스, API 등과의 호환성을 보장.  \n",
    "- 스키마를 따르는 일관된 형식으로 데이터 제공.\n",
    "\n",
    "구조화된 출력은 특히 **데이터베이스 저장, API 연동, 데이터 처리** 등 다양한 응용 분야에서 중요한 역할을 합니다. "
   ]
  },
  {
   "cell_type": "code",
   "execution_count": 28,
   "id": "816b24dd-e2ef-4ebc-87d0-39f600502225",
   "metadata": {},
   "outputs": [],
   "source": [
    "# 사용자 정의 함수 또는 외부 API\n",
    "def get_weather(location: str, unit: str = \"섭씨\"):\n",
    "    return f\"{location}의 날씨는 {unit} 20°.\""
   ]
  },
  {
   "cell_type": "code",
   "execution_count": 27,
   "id": "b263765f-5854-4d40-a51f-0c8f6f2dd981",
   "metadata": {},
   "outputs": [
    {
     "data": {
      "text/plain": [
       "{'location': '서울'}"
      ]
     },
     "execution_count": 27,
     "metadata": {},
     "output_type": "execute_result"
    }
   ],
   "source": [
    "# 스키마 정의\n",
    "schema = {\n",
    "    \"name\": \"get_weather\",   # 함수 이름 (고유 식별자 역할)\n",
    "    \"description\": \"지정된 위치의 현재 날씨를 조회합니다.\",   # 함수에 대한 설명\n",
    "    \"parameters\": {          # 함수가 받을 매개변수(parameters) 정의\n",
    "        \"type\": \"object\",    # 매개변수 타입 (객체 형태로 입력받음)\n",
    "        \"properties\": {      # 매개변수의 세부 속성 정의\n",
    "            \"location\": {\n",
    "                \"type\": \"string\",   # 입력 타입: 문자열\n",
    "                \"description\": \"날씨를 조회할 도시의 이름입니다.\"  # 매개변수 설명\n",
    "            },\n",
    "            \"unit\": {\n",
    "                \"type\": \"string\",    # 입력 타입: 문자열\n",
    "                \"enum\": [\"celsius\", \"fahrenheit\"],    # 허용 가능한 값 (섭씨 또는 화씨)\n",
    "                \"description\": \"온도 단위로, 섭씨(celsius) 또는 화씨(fahrenheit)입니다.\"\n",
    "            }\n",
    "        },\n",
    "        \"required\": [\"location\"]     # 필수 매개변수 (location은 반드시 입력되어야 함)\n",
    "    }\n",
    "}\n",
    "\n",
    "# 스키마를 모델에 바인딩\n",
    "model_with_structure = ChatOpenAI(model=\"gpt-4o-mini\", temperature=0).with_structured_output(schema)\n",
    "\n",
    "# 사용자 입력\n",
    "user_input = \"서울의 현재 날씨를 알려줘.\"\n",
    "\n",
    "# 사용자 입력을 받아 스키마에 맞는 구조화된 출력을 생성하도록 모델 호출\n",
    "structured_output = model_with_structure.invoke(user_input)\n",
    "structured_output"
   ]
  },
  {
   "cell_type": "code",
   "execution_count": 29,
   "id": "251ce1eb-278a-4a25-b54d-673b81476026",
   "metadata": {},
   "outputs": [
    {
     "name": "stdout",
     "output_type": "stream",
     "text": [
      "서울의 날씨는 섭씨 20°.\n"
     ]
    }
   ],
   "source": [
    "# structured_output을 함수 파라미터로 전달\n",
    "response = get_weather(**structured_output)\n",
    "print(response)"
   ]
  },
  {
   "cell_type": "markdown",
   "id": "df3fa434-df54-4fc3-9812-82e07810c34b",
   "metadata": {},
   "source": [
    "### **스키마를 도구로서 모델에 바인딩**"
   ]
  },
  {
   "cell_type": "code",
   "execution_count": 34,
   "id": "610dc822-3c65-42de-9b56-f3346509f720",
   "metadata": {},
   "outputs": [],
   "source": [
    "from pydantic import BaseModel, Field\n",
    "\n",
    "# 사용자에게 응답을 구조화하기 위한 도구 정의\n",
    "class ResponseFormatter(BaseModel):\n",
    "    \"\"\"항상 이 도구를 사용하여 사용자에게 응답을 구조화하세요.\"\"\"\n",
    "    \n",
    "    answer: str = Field(\n",
    "        description=\"사용자의 질문에 대한 답변\"  # 필드 설명: 사용자 질문에 대한 답변 제공\n",
    "    )\n",
    "    followup_question: str = Field(\n",
    "        description=\"사용자가 추가로 할 수 있는 후속 질문\"  # 필드 설명: 사용자가 추가로 질문할 수 있는 내용 제공\n",
    "    )"
   ]
  },
  {
   "cell_type": "code",
   "execution_count": 61,
   "id": "fa4d8f53-6e85-4b05-bf05-17c648ea390b",
   "metadata": {},
   "outputs": [
    {
     "data": {
      "text/plain": [
       "AIMessage(content='', additional_kwargs={'tool_calls': [{'id': 'call_knLHD4OQDmqfO6VPNDUxPFP6', 'function': {'arguments': '{\"answer\":\"세포의 발전소는 미토콘드리아입니다. 미토콘드리아는 세포 내에서 에너지를 생성하는 역할을 하며, 주로 ATP(아데노신 삼인산)를 생산하여 세포의 에너지 요구를 충족시킵니다. 이 과정은 호흡이라고 불리며, 산소를 사용하여 영양소를 분해하여 에너지를 생성합니다.\",\"followup_question\":\"미토콘드리아의 기능에 대해 더 알고 싶으신가요?\"}', 'name': 'ResponseFormatter'}, 'type': 'function'}], 'refusal': None}, response_metadata={'token_usage': {'completion_tokens': 124, 'prompt_tokens': 89, 'total_tokens': 213, 'completion_tokens_details': {'accepted_prediction_tokens': 0, 'audio_tokens': 0, 'reasoning_tokens': 0, 'rejected_prediction_tokens': 0}, 'prompt_tokens_details': {'audio_tokens': 0, 'cached_tokens': 0}}, 'model_name': 'gpt-4o-mini-2024-07-18', 'system_fingerprint': 'fp_0aa8d3e20b', 'finish_reason': 'tool_calls', 'logprobs': None}, id='run-18d72a18-f6ca-40c8-8e73-eef17d700eec-0', tool_calls=[{'name': 'ResponseFormatter', 'args': {'answer': '세포의 발전소는 미토콘드리아입니다. 미토콘드리아는 세포 내에서 에너지를 생성하는 역할을 하며, 주로 ATP(아데노신 삼인산)를 생산하여 세포의 에너지 요구를 충족시킵니다. 이 과정은 호흡이라고 불리며, 산소를 사용하여 영양소를 분해하여 에너지를 생성합니다.', 'followup_question': '미토콘드리아의 기능에 대해 더 알고 싶으신가요?'}, 'id': 'call_knLHD4OQDmqfO6VPNDUxPFP6', 'type': 'tool_call'}], usage_metadata={'input_tokens': 89, 'output_tokens': 124, 'total_tokens': 213, 'input_token_details': {'audio': 0, 'cache_read': 0}, 'output_token_details': {'audio': 0, 'reasoning': 0}})"
      ]
     },
     "execution_count": 61,
     "metadata": {},
     "output_type": "execute_result"
    }
   ],
   "source": [
    "model = ChatOpenAI(model=\"gpt-4o-mini\", temperature=0)  \n",
    "\n",
    "# 스키마를 도구로 모델에 바인딩하여, 스키마를 따르는 출력을 생성하도록 설정  \n",
    "model_with_tools = model.bind_tools([ResponseFormatter])  \n",
    "\n",
    "# 모델 호출\n",
    "ai_msg = model_with_tools.invoke(\"세포의 발전소는 무엇인가요??\")  \n",
    "\n",
    "ai_msg"
   ]
  },
  {
   "cell_type": "code",
   "execution_count": 73,
   "id": "2cfd08df-7543-460e-81e7-18cabf9652f4",
   "metadata": {},
   "outputs": [
    {
     "data": {
      "text/plain": [
       "'{\"answer\":\"세포의 발전소는 미토콘드리아입니다. 미토콘드리아는 세포 내에서 에너지를 생성하는 역할을 하며, 주로 ATP(아데노신 삼인산)를 생산하여 세포의 에너지 요구를 충족시킵니다. 이 과정은 호흡이라고 불리며, 산소를 사용하여 영양소를 분해하여 에너지를 생성합니다.\",\"followup_question\":\"미토콘드리아의 기능에 대해 더 알고 싶으신가요?\"}'"
      ]
     },
     "execution_count": 73,
     "metadata": {},
     "output_type": "execute_result"
    }
   ],
   "source": [
    "json_string = ai_msg.additional_kwargs['tool_calls'][0]['function']['arguments']\n",
    "json_string"
   ]
  },
  {
   "cell_type": "code",
   "execution_count": 74,
   "id": "a1249f6b-ca13-4374-9de1-fcbf319fc37f",
   "metadata": {},
   "outputs": [
    {
     "data": {
      "text/plain": [
       "{'answer': '세포의 발전소는 미토콘드리아입니다. 미토콘드리아는 세포 내에서 에너지를 생성하는 역할을 하며, 주로 ATP(아데노신 삼인산)를 생산하여 세포의 에너지 요구를 충족시킵니다. 이 과정은 호흡이라고 불리며, 산소를 사용하여 영양소를 분해하여 에너지를 생성합니다.',\n",
       " 'followup_question': '미토콘드리아의 기능에 대해 더 알고 싶으신가요?'}"
      ]
     },
     "execution_count": 74,
     "metadata": {},
     "output_type": "execute_result"
    }
   ],
   "source": [
    "import json\n",
    "json.loads(json_string)"
   ]
  },
  {
   "cell_type": "code",
   "execution_count": null,
   "id": "8dc620af-db8a-4e8e-9419-36e87379abc7",
   "metadata": {},
   "outputs": [],
   "source": []
  }
 ],
 "metadata": {
  "colab": {
   "provenance": []
  },
  "kernelspec": {
   "display_name": "Python 3 (ipykernel)",
   "language": "python",
   "name": "python3"
  },
  "language_info": {
   "codemirror_mode": {
    "name": "ipython",
    "version": 3
   },
   "file_extension": ".py",
   "mimetype": "text/x-python",
   "name": "python",
   "nbconvert_exporter": "python",
   "pygments_lexer": "ipython3",
   "version": "3.9.21"
  }
 },
 "nbformat": 4,
 "nbformat_minor": 5
}
