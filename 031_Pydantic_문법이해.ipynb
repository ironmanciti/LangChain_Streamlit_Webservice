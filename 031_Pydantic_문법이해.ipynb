{
 "cells": [
  {
   "cell_type": "markdown",
   "id": "3fba4ead-7f5a-4bd4-904a-ae5f482830e6",
   "metadata": {},
   "source": [
    "# Typedict\n",
    "\n",
    "TypedDict는 Python 3.8에서 도입된 기능으로, 딕셔너리의 각 키에 대해 특정 타입을 지정할 수 있게 해줍니다. 이를 통해 코드의 가독성과 유지보수성을 높이고, 정적 타입 검사 도구(예: mypy)를 활용하여 타입 오류를 사전에 방지할 수 있습니다.  \n",
    "\n",
    "주요 특징:\n",
    "- 키-값 타입 지정: 딕셔너리의 각 키에 대해 예상되는 값의 타입을 명시적으로 정의할 수 있습니다.  \n",
    "- 정적 타입 검사 지원: TypedDict로 정의된 구조는 정적 타입 검사 도구와 함께 사용되어, 코드 작성 시 타입 불일치를 사전에 감지할 수 있습니다.   \n",
    "- 선택적 및 필수 키 구분: 필요에 따라 특정 키를 필수 또는 선택적으로 지정할 수 있습니다."
   ]
  },
  {
   "cell_type": "code",
   "execution_count": 44,
   "id": "87fb61ef-607c-43fc-8a88-9c314e9d9d03",
   "metadata": {},
   "outputs": [],
   "source": [
    "from typing import TypedDict\n",
    "\n",
    "class Movie(TypedDict):\n",
    "    id: int        # 제품의 고유 식별자\n",
    "    name: str      # 제품명\n",
    "    price: float   # 제품 가격\n",
    "\n",
    "# Movie라는 타입을 가진 movie 변수를 정의하고, 해당 변수에 영화 정보를 담은 딕셔너리를 할당\n",
    "movie: Movie = {\n",
    "    'id': 1,\n",
    "    'name': 'Inception',\n",
    "    'price': 19.99\n",
    "}"
   ]
  },
  {
   "cell_type": "markdown",
   "id": "61d6a716-1c71-4bea-8e9b-6b2f0cb1acad",
   "metadata": {},
   "source": [
    "# Pydantic\n",
    "\n",
    "Pydantic은 Python에서 데이터 유효성 검사와 설정 관리를 위한 라이브러리로, 타입 힌트를 활용하여 데이터 모델을 정의하고 검증하는 데 중점을 둡니다."
   ]
  },
  {
   "cell_type": "markdown",
   "id": "206d53bb-dab9-49d6-8a3f-34fab61974b1",
   "metadata": {},
   "source": [
    "### 1. 기본 모델 정의 및 데이터 검증\n",
    "Pydantic을 사용하면 데이터 모델을 정의하고, 입력 데이터의 유효성을 자동으로 검사할 수 있습니다.\n",
    "\n",
    "예) Product 모델은 id, name, price 필드를 가지며, 각각 정수, 문자열, 부동소수점 숫자로 정의되어 있습니다."
   ]
  },
  {
   "cell_type": "code",
   "execution_count": 7,
   "id": "00f94a07-64ba-4726-9467-b5ecce20d6d0",
   "metadata": {},
   "outputs": [],
   "source": [
    "from pydantic import BaseModel\n",
    "\n",
    "class Product(BaseModel):\n",
    "    id: int        # 제품의 고유 식별자\n",
    "    name: str      # 제품명\n",
    "    price: float   # 제품 가격"
   ]
  },
  {
   "cell_type": "code",
   "execution_count": 11,
   "id": "67254df9-12af-4414-a952-695b99565b4a",
   "metadata": {},
   "outputs": [
    {
     "name": "stdout",
     "output_type": "stream",
     "text": [
      "id=1 name='Laptop' price=999.99\n"
     ]
    }
   ],
   "source": [
    "# 유효한 데이터\n",
    "product = Product(id=1, name=\"Laptop\", price=999.99)\n",
    "print(product)"
   ]
  },
  {
   "cell_type": "code",
   "execution_count": 12,
   "id": "302b60a6-3457-4e6b-b5c3-c226691d2c56",
   "metadata": {},
   "outputs": [
    {
     "name": "stdout",
     "output_type": "stream",
     "text": [
      "2 validation errors for Product\n",
      "id\n",
      "  Input should be a valid integer, unable to parse string as an integer [type=int_parsing, input_value='one', input_type=str]\n",
      "    For further information visit https://errors.pydantic.dev/2.10/v/int_parsing\n",
      "price\n",
      "  Input should be a valid number, unable to parse string as a number [type=float_parsing, input_value='cheap', input_type=str]\n",
      "    For further information visit https://errors.pydantic.dev/2.10/v/float_parsing\n"
     ]
    }
   ],
   "source": [
    "# 유효하지 않은 데이터\n",
    "try:\n",
    "    invalid_product = Product(id=\"one\", name=\"Laptop\", price=\"cheap\")\n",
    "except ValueError as e:\n",
    "    print(e)"
   ]
  },
  {
   "cell_type": "markdown",
   "id": "4eb38e5d-2e42-42c4-b8e2-860a8866a61d",
   "metadata": {},
   "source": [
    "### 2. 선택적 필드와 기본값\n",
    "Pydantic을 사용하면 선택적 필드와 기본값을 쉽게 정의할 수 있습니다.  \n",
    "\n",
    "다음 예에서 department 필드는 선택 사항이며 기본값은 None입니다. is_active 필드는 기본값이 True로 설정되어 있습니다."
   ]
  },
  {
   "cell_type": "code",
   "execution_count": 13,
   "id": "9affcf34-c80f-413d-b7b7-f4fb0429955b",
   "metadata": {},
   "outputs": [
    {
     "name": "stdout",
     "output_type": "stream",
     "text": [
      "id=1 name='Alice' department=None is_active=True\n"
     ]
    }
   ],
   "source": [
    "from typing import Optional\n",
    "from pydantic import BaseModel\n",
    "\n",
    "class Employee(BaseModel):\n",
    "    id: int    # 직원의 고유 식별자\n",
    "    name: str  # 직원 이름\n",
    "    department: Optional[str] = None  # 부서명 (선택 사항)\n",
    "    is_active: bool = True            # 현재 근무 상태 (기본값: True)\n",
    "\n",
    "# Employee 인스턴스 생성\n",
    "employee = Employee(id=1, name=\"Alice\")\n",
    "print(employee)"
   ]
  },
  {
   "cell_type": "markdown",
   "id": "5ee1f5eb-e7c4-4024-a2ac-58579fe41981",
   "metadata": {},
   "source": [
    "### 3. 중첩 모델\n",
    "Pydantic은 다른 모델을 필드로 포함하여 복잡한 데이터 구조를 표현할 수 있습니다.  \n",
    "\n",
    "다음 코드에서 User 모델은 여러 개의 Address를 가질 수 있으며, 이를 통해 복잡한 데이터 구조를 표현합니다."
   ]
  },
  {
   "cell_type": "code",
   "execution_count": 14,
   "id": "461f18a8-829b-4174-abd8-5d67b1372cdc",
   "metadata": {},
   "outputs": [
    {
     "name": "stdout",
     "output_type": "stream",
     "text": [
      "id=1 name='Charlie' addresses=[Address(street='123 Main St', city='Seoul', country='South Korea'), Address(street='456 Side St', city='New York', country='USA')]\n"
     ]
    }
   ],
   "source": [
    "from typing import List  \n",
    "from pydantic import BaseModel  \n",
    "\n",
    "# 주소 정보를 나타내는 모델\n",
    "class Address(BaseModel):\n",
    "    street: str  # 거리 이름\n",
    "    city: str    # 도시 이름\n",
    "    country: str  # 국가 이름\n",
    "\n",
    "# 사용자 정보를 나타내는 모델\n",
    "class User(BaseModel):\n",
    "    id: int       # 사용자의 고유 식별자\n",
    "    name: str     # 사용자 이름\n",
    "    addresses: List[Address]  # 사용자의 주소 목록 (Address 객체의 리스트)\n",
    "\n",
    "# User 인스턴스 생성\n",
    "user = User(\n",
    "    id=1,            # 사용자 ID\n",
    "    name=\"Charlie\",  # 사용자 이름\n",
    "    addresses=[       # 주소 목록\n",
    "        Address(street=\"123 Main St\", city=\"Seoul\", country=\"South Korea\"),\n",
    "        Address(street=\"456 Side St\", city=\"New York\", country=\"USA\") \n",
    "    ]\n",
    ")\n",
    "\n",
    "print(user)"
   ]
  },
  {
   "cell_type": "code",
   "execution_count": 20,
   "id": "dc50a949-de1e-44b5-94d1-a8d509e34901",
   "metadata": {},
   "outputs": [],
   "source": [
    "# # User 인스턴스 생성\n",
    "# user = User(\n",
    "#     id='abc',            # 사용자 ID\n",
    "#     name=123,  # 사용자 이름\n",
    "#     addresses=[       # 주소 목록\n",
    "#         Address(street=\"123 Main St\", city=\"Seoul\", country=\"South Korea\"),\n",
    "#         Address(street=\"456 Side St\", city=\"New York\", country=\"USA\") \n",
    "#     ]\n",
    "# )"
   ]
  },
  {
   "cell_type": "markdown",
   "id": "c2723861-2f5e-487c-bad6-cc8b0f5927df",
   "metadata": {},
   "source": [
    "### 4. 데이터 직렬화 및 역직렬화\n",
    "Pydantic 모델은 JSON과 같은 형식으로 쉽게 변환할 수 있으며, 그 반대도 가능합니다.  \n",
    "\n",
    "다음 코드에서 Item 모델은 딕셔너리나 JSON 문자열로 변환될 수 있으며, 이를 통해 데이터베이스 저장, 네트워크 전송 등을 쉽게 처리할 수 있습니다."
   ]
  },
  {
   "cell_type": "code",
   "execution_count": 23,
   "id": "1983d4e1-30ad-4873-ad30-6f5369f4f8b9",
   "metadata": {},
   "outputs": [
    {
     "name": "stdout",
     "output_type": "stream",
     "text": [
      "{'name': 'Book', 'price': 12.99}\n",
      "{\"name\":\"Book\",\"price\":12.99}\n",
      "name='Book' price=12.99\n"
     ]
    }
   ],
   "source": [
    "from pydantic import BaseModel  \n",
    "\n",
    "# 상품 정보를 나타내는 데이터 모델\n",
    "class Item(BaseModel):\n",
    "    name: str     # 상품 이름\n",
    "    price: float  # 상품 가격\n",
    "\n",
    "# Item 인스턴스 생성\n",
    "item = Item(name=\"Book\", price=12.99) \n",
    "\n",
    "# 모델을 딕셔너리로 변환\n",
    "item_dict = item.model_dump()  \n",
    "print(item_dict)  \n",
    "\n",
    "# 모델을 JSON 문자열로 변환\n",
    "item_json = item.model_dump_json()  \n",
    "print(item_json) \n",
    "\n",
    "# 딕셔너리로부터 모델 생성\n",
    "new_item = Item(**item_dict)  # 딕셔너리의 값을 언패킹하여 새로운 Item 객체 생성\n",
    "print(new_item) "
   ]
  },
  {
   "cell_type": "markdown",
   "id": "9602d8b1-6e6f-496a-abb3-9b7d05151f9d",
   "metadata": {},
   "source": [
    "### 5. 커스텀 유효성 검사\n",
    "Pydantic은 `@field_validator` 데코레이터를 사용하여 필드에 대한 추가적인 유효성 검사를 정의할 수 있습니다.  \n",
    "\n",
    "다음 코드에서 check_age 메서드는 age 필드가 0에서 150 사이의 값인지 확인하며, 그렇지 않으면 ValueError를 발생시킵니다."
   ]
  },
  {
   "cell_type": "code",
   "execution_count": 32,
   "id": "4cba05f2-7436-419a-a1b6-96245409991b",
   "metadata": {},
   "outputs": [
    {
     "name": "stdout",
     "output_type": "stream",
     "text": [
      "id=1 name='Dave' age=30\n",
      "\n",
      "1 validation error for User\n",
      "age\n",
      "  Value error, Age는 0 ~ 150 사이라야 합니다. [type=value_error, input_value=200, input_type=int]\n",
      "    For further information visit https://errors.pydantic.dev/2.10/v/value_error\n"
     ]
    }
   ],
   "source": [
    "from pydantic import BaseModel, field_validator  \n",
    "\n",
    "# 사용자 정보를 나타내는 데이터 모델\n",
    "class User(BaseModel):\n",
    "    id: int       # 사용자 고유 식별자\n",
    "    name: str     # 사용자 이름\n",
    "    age: int      # 사용자 나이\n",
    "\n",
    "    # 나이(age) 필드에 대한 유효성 검사\n",
    "    @field_validator('age')\n",
    "    def check_age(cls, v):\n",
    "        \"\"\"\n",
    "        나이는 0에서 150 사이여야 합니다.\n",
    "        \"\"\"\n",
    "        if v < 0 or v > 150:\n",
    "            raise ValueError('Age는 0 ~ 150 사이라야 합니다.')  # 유효하지 않은 경우 오류 발생\n",
    "        return v  # 유효한 경우 나이 반환\n",
    "\n",
    "# 유효한 나이로 User 객체 생성\n",
    "user = User(id=1, name=\"Dave\", age=30)  \n",
    "print(user) \n",
    "print()\n",
    "\n",
    "# 유효하지 않은 나이로 User 객체 생성 시 예외 처리\n",
    "try:\n",
    "    invalid_user = User(id=2, name=\"Eve\", age=200) \n",
    "except ValueError as e:\n",
    "    print(e) "
   ]
  },
  {
   "cell_type": "markdown",
   "id": "0fbaa3e1-30b0-49d4-8562-e425d0fc2411",
   "metadata": {},
   "source": [
    "# Enum\n",
    "\n",
    "열거형이라고도 하며, 서로 연관된 상수들의 집합을 정의하는 데 사용되는 특별한 데이터 타입입니다. 이를 통해 변수는 미리 정의된 값들 중 하나만을 가질 수 있게 제한되며, 코드의 가독성과 안정성을 높이는 데 기여합니다.\n",
    "\n",
    "### 주요 특징:\n",
    "- 타입 안전성 보장: 열거형을 사용하면 변수에 허용되지 않은 값이 할당되는 것을 방지하여, 코드의 안정성을 높일 수 있습니다.  \n",
    "- 가독성 향상: 관련된 상수들을 그룹화하여 의미를 명확히 표현함으로써, 코드의 가독성을 향상시킵니다.  \n",
    "- 상수 그룹화: 관련된 상수들을 하나의 열거형으로 묶어 관리할 수 있습니다."
   ]
  },
  {
   "cell_type": "code",
   "execution_count": 33,
   "id": "828aac24-8280-4546-bb36-9b59c299434c",
   "metadata": {},
   "outputs": [
    {
     "data": {
      "text/plain": [
       "<Day.MONDAY: 1>"
      ]
     },
     "execution_count": 33,
     "metadata": {},
     "output_type": "execute_result"
    }
   ],
   "source": [
    "from enum import Enum\n",
    "\n",
    "class Day(Enum):\n",
    "    SUNDAY = 0\n",
    "    MONDAY = 1\n",
    "    TUESDAY = 2\n",
    "    WEDNESDAY = 3\n",
    "    THURSDAY = 4\n",
    "    FRIDAY = 5\n",
    "    SATURDAY = 6\n",
    "\n",
    "today = Day.MONDAY\n",
    "today"
   ]
  },
  {
   "cell_type": "markdown",
   "id": "28e959b5-d32d-4108-b620-cbde63d847e2",
   "metadata": {},
   "source": [
    "# Pydantic 과 Enum 을 결합한 예제"
   ]
  },
  {
   "cell_type": "code",
   "execution_count": 39,
   "id": "ffe2b313-9070-4fc2-9222-0b0bf1fc0aee",
   "metadata": {},
   "outputs": [],
   "source": [
    "from enum import Enum\n",
    "from pydantic import BaseModel, Field, ValidationError\n",
    "\n",
    "# 사용자 역할을 정의하는 열거형(Enum)\n",
    "class Role(Enum):\n",
    "    ADMIN = \"admin\"    # 관리자 역할: 모든 권한을 가짐\n",
    "    EDITOR = \"editor\"  # 편집자 역할: 일부 콘텐츠를 수정할 수 있음\n",
    "    VIEWER = \"viewer\"  # 뷰어 역할: 콘텐츠를 보기만 할 수 있음\n",
    "\n",
    "# 사용자 모델 정의\n",
    "class User(BaseModel):\n",
    "    id: int = Field(..., description=\"사용자 고유 ID\")   # 필수 필드 (Mandatory Field)\n",
    "    name: str = Field(..., description=\"사용자 이름\")\n",
    "    role: Role = Field(..., description=\"사용자 역할 (admin, editor, viewer 중 하나)\")\n",
    "    age: int = Field(..., ge=0, le=150, description=\"나이 (0-150 사이)\")\n",
    "\n",
    "    def is_admin(self) -> bool:\n",
    "        \"\"\"사용자가 ADMIN 역할인지 확인합니다.\"\"\"\n",
    "        return self.role == Role.ADMIN"
   ]
  },
  {
   "cell_type": "code",
   "execution_count": 41,
   "id": "d369ba84-9d36-4557-8c0e-18816220b343",
   "metadata": {},
   "outputs": [
    {
     "name": "stdout",
     "output_type": "stream",
     "text": [
      "유효한 사용자 생성 성공!\n",
      "id=1 name='Alice' role=<Role.ADMIN: 'admin'> age=30\n",
      "Is Admin: True\n"
     ]
    }
   ],
   "source": [
    "# 유효한 사용자 데이터 예제\n",
    "try:\n",
    "    user = User(\n",
    "        id=1,\n",
    "        name=\"Alice\",\n",
    "        role=Role.ADMIN,\n",
    "        age=30\n",
    "    )\n",
    "    print(\"유효한 사용자 생성 성공!\")\n",
    "    print(user)\n",
    "    print(\"Is Admin:\", user.is_admin())\n",
    "except Exception as e:\n",
    "    print(\"유효하지 않은 사용자 데이터입니다.\")\n",
    "    print(e)"
   ]
  },
  {
   "cell_type": "code",
   "execution_count": 42,
   "id": "3df2f479-32ec-48bb-b018-ca1b0efa509a",
   "metadata": {},
   "outputs": [
    {
     "name": "stdout",
     "output_type": "stream",
     "text": [
      "유효하지 않은 사용자 데이터입니다 (role 오류).\n",
      "1 validation error for User\n",
      "role\n",
      "  Input should be 'admin', 'editor' or 'viewer' [type=enum, input_value='superuser', input_type=str]\n",
      "    For further information visit https://errors.pydantic.dev/2.10/v/enum\n"
     ]
    }
   ],
   "source": [
    "# 유효하지 않은 사용자 데이터 예제 (잘못된 role 값)\n",
    "try:\n",
    "    invalid_user = User(\n",
    "        id=2,\n",
    "        name=\"Bob\",\n",
    "        role=\"superuser\",  # Enum에 정의되지 않은 값\n",
    "        age=25\n",
    "    )\n",
    "except Exception as e:\n",
    "    print(\"유효하지 않은 사용자 데이터입니다 (role 오류).\")\n",
    "    print(e)"
   ]
  },
  {
   "cell_type": "code",
   "execution_count": 43,
   "id": "604635dd-299c-4628-8934-874a4a44ac80",
   "metadata": {},
   "outputs": [
    {
     "name": "stdout",
     "output_type": "stream",
     "text": [
      "유효하지 않은 사용자 데이터입니다 (age 오류).\n",
      "1 validation error for User\n",
      "age\n",
      "  Input should be less than or equal to 150 [type=less_than_equal, input_value=200, input_type=int]\n",
      "    For further information visit https://errors.pydantic.dev/2.10/v/less_than_equal\n"
     ]
    }
   ],
   "source": [
    "# 유효하지 않은 사용자 데이터 예제 (나이 범위 초과)\n",
    "try:\n",
    "    invalid_user = User(\n",
    "        id=3,\n",
    "        name=\"Charlie\",\n",
    "        role=Role.VIEWER,\n",
    "        age=200  # 범위를 벗어난 나이\n",
    "    )\n",
    "except Exception as e:\n",
    "    print(\"유효하지 않은 사용자 데이터입니다 (age 오류).\")\n",
    "    print(e)"
   ]
  },
  {
   "cell_type": "code",
   "execution_count": null,
   "id": "c7aabe6e-82fa-460a-a290-0be5e93b90dd",
   "metadata": {},
   "outputs": [],
   "source": []
  }
 ],
 "metadata": {
  "kernelspec": {
   "display_name": "Python 3 (ipykernel)",
   "language": "python",
   "name": "python3"
  },
  "language_info": {
   "codemirror_mode": {
    "name": "ipython",
    "version": 3
   },
   "file_extension": ".py",
   "mimetype": "text/x-python",
   "name": "python",
   "nbconvert_exporter": "python",
   "pygments_lexer": "ipython3",
   "version": "3.9.21"
  }
 },
 "nbformat": 4,
 "nbformat_minor": 5
}
