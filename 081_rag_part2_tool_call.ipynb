{
 "cells": [
  {
   "cell_type": "markdown",
   "id": "86fc5bb2-017f-434e-8cd6-53ab214a5604",
   "metadata": {
    "id": "86fc5bb2-017f-434e-8cd6-53ab214a5604"
   },
   "source": [
    "# **Retrieval Augmented Generation (RAG) 애플리케이션 구축: Part 2**\n",
    "\n",
    "많은 Q&A 애플리케이션에서는 **사용자와의 대화가 이어질 수 있도록** 설계해야 합니다.  \n",
    "이를 위해서는 애플리케이션이 과거의 **질문과 답변을 기억(메모리)** 하고, 이를 현재의 논리적 흐름에 통합하는 기능이 필요합니다.\n",
    "\n",
    "###  **대화 기록(Chat History) 관리**\n",
    "\n",
    "여기서는 **과거 대화 기록을 현재 답변 논리에 통합하는 방법**을 중점적으로 다룹니다.  \n",
    "\n",
    "### **두 가지 접근 방식**\n",
    "\n",
    "1. **체인(Chains)**   - 최대 한 번의 검색 단계만 실행합니다.  \n",
    "\n",
    "2. **에이전트(Agents)**   - LLM이 필요에 따라 **여러 번의 검색 단계 (다중 단계 검색)** 를 수행하도록 자유롭게 설정합니다."
   ]
  },
  {
   "cell_type": "code",
   "execution_count": 1,
   "id": "651b53d7",
   "metadata": {},
   "outputs": [],
   "source": [
    "# !pip install -qU \\\n",
    "# python-dotenv \\\n",
    "# langchain \\\n",
    "# langchain-community \\\n",
    "# openai \\\n",
    "# anthropic \\\n",
    "# langchain-openai \\\n",
    "# langchain-anthropic \\\n",
    "# langchain-google-genai \\\n",
    "# python-dotenv\n",
    "# !pip install --upgrade --quiet langgraph langchain-community beautifulsoup4"
   ]
  },
  {
   "cell_type": "code",
   "execution_count": 2,
   "id": "b058beb4",
   "metadata": {},
   "outputs": [
    {
     "data": {
      "text/plain": [
       "True"
      ]
     },
     "execution_count": 2,
     "metadata": {},
     "output_type": "execute_result"
    }
   ],
   "source": [
    "import os\n",
    "from dotenv import load_dotenv\n",
    "load_dotenv()"
   ]
  },
  {
   "cell_type": "code",
   "execution_count": 3,
   "id": "0a7c2b9f",
   "metadata": {},
   "outputs": [],
   "source": [
    "# LangChain 추적(Tracing) 설정 활성화\n",
    "os.environ[\"LANGCHAIN_TRACING_V2\"] = \"true\""
   ]
  },
  {
   "cell_type": "code",
   "execution_count": 4,
   "id": "a2ef4281",
   "metadata": {},
   "outputs": [],
   "source": [
    "from langchain_openai import ChatOpenAI\n",
    "from langchain_openai import OpenAIEmbeddings\n",
    "\n",
    "# 사용할 언어 모델의 이름을 지정\n",
    "llm = ChatOpenAI(model=\"gpt-4o-mini\")\n",
    "# 사용할 임베딩 모델의 이름을 지정\n",
    "embeddings = OpenAIEmbeddings(model='text-embedding-3-small')"
   ]
  },
  {
   "cell_type": "code",
   "execution_count": 5,
   "id": "05eee8f6",
   "metadata": {},
   "outputs": [
    {
     "data": {
      "text/plain": [
       "<langchain_core.vectorstores.in_memory.InMemoryVectorStore at 0x2093a65d370>"
      ]
     },
     "execution_count": 5,
     "metadata": {},
     "output_type": "execute_result"
    }
   ],
   "source": [
    "from langchain_core.vectorstores import InMemoryVectorStore\n",
    "\n",
    "vector_store = InMemoryVectorStore(embeddings)\n",
    "vector_store"
   ]
  },
  {
   "cell_type": "markdown",
   "id": "fa6ba684-26cf-4860-904e-a4d51380c134",
   "metadata": {
    "id": "fa6ba684-26cf-4860-904e-a4d51380c134"
   },
   "source": [
    "Lilian Weng의 블로그 게시물 \"[LLM 기반 자율 에이전트](https://lilianweng.github.io/posts/2023-06-23-agent/)\"의 내용을 인덱싱한 벡터 스토어를 활용하여 사용자의 질문에 대한 관련 정보를 효과적으로 검색하고 제공할 수 있습니다."
   ]
  },
  {
   "cell_type": "code",
   "execution_count": 15,
   "id": "fef3908a",
   "metadata": {},
   "outputs": [
    {
     "name": "stdout",
     "output_type": "stream",
     "text": [
      "블로그 글을 66개의 하위 문서로 분할했습니다.\n"
     ]
    }
   ],
   "source": [
    "import bs4\n",
    "from langchain_community.document_loaders import WebBaseLoader\n",
    "from langchain_core.documents import Document\n",
    "from langchain_text_splitters import RecursiveCharacterTextSplitter\n",
    "from typing_extensions import List, TypedDict\n",
    "\n",
    "# HTML에서 `post-content`, `post-title`, `post-header` 클래스를 가진 콘텐츠만 추출하여 텍스트 변환\n",
    "bs4_strainer = bs4.SoupStrainer(class_=(\"post-title\", \"post-header\", \"post-content\"))\n",
    "\n",
    "# WebBaseLoader를 사용해 웹 페이지의 내용을 불러옵니다.\n",
    "# Define the headers with a User-Agent\n",
    "loader = WebBaseLoader(\n",
    "    web_paths=(\"https://lilianweng.github.io/posts/2023-06-23-agent/\",),\n",
    "    bs_kwargs={\"parse_only\": bs4_strainer},\n",
    ")\n",
    "\n",
    "# 문서 로드하여 Document 객체 목록 반환\n",
    "docs = loader.load()\n",
    "\n",
    "# 로드된 문서가 정확히 하나인지 검증합니다.\n",
    "assert len(docs) == 1\n",
    "\n",
    "# 웹 페이지에서 데이터를 로드\n",
    "# 텍스트를 작은 청크로 분할\n",
    "# - chunk_size: 각 청크의 최대 문자 수 (1000자)\n",
    "# - chunk_overlap: 청크 간 겹치는 문자 수 (200자)\n",
    "text_splitter = RecursiveCharacterTextSplitter(chunk_size=1000, chunk_overlap=200)\n",
    "\n",
    "# 로드된 문서를 청크로 나누고 리스트로 반환\n",
    "all_splits = text_splitter.split_documents(docs)\n",
    "\n",
    "# 분할된 청크(서브 문서)의 개수 출력\n",
    "print(f\"블로그 글을 {len(all_splits)}개의 하위 문서로 분할했습니다.\")"
   ]
  },
  {
   "cell_type": "code",
   "execution_count": 16,
   "id": "9e575234",
   "metadata": {},
   "outputs": [],
   "source": [
    "# 텍스트 청크를 벡터 스토어에 인덱싱\n",
    "# - vector_store: 텍스트 임베딩 벡터를 저장하고 검색하는 데 사용되는 데이터 저장소입니다.\n",
    "_ = vector_store.add_documents(documents=all_splits)"
   ]
  },
  {
   "cell_type": "markdown",
   "id": "bac23bf1-8f8e-4594-bfb2-6044991d9140",
   "metadata": {},
   "source": [
    "### 기존 방식: 상태(state) 기반 접근법 \n",
    "- **RAG 애플리케이션**에서는 사용자 입력, 검색된 문서, 그리고 생성된 답변을 각각 상태(state)라는 구조 안에 별도의 키(key)로 저장했습니다.  \n",
    "- 예를 들면:  \n",
    "   ```python\n",
    "   state = {\n",
    "       \"question\": \"고양이는 몇 살까지 살아요?\",\n",
    "       \"context\": [\"고양이의 평균 수명은 12-18년입니다.\"],\n",
    "       \"answer\": \"고양이는 보통 12-18년 정도 삽니다.\"\n",
    "   }\n",
    "   ```\n",
    "- 하지만 이런 방식은 **대화의 흐름을 자연스럽게 표현하기 어려울 수 있습니다.**  \n",
    "\n",
    "---\n",
    "\n",
    "### 새로운 방식: 메시지(messages) 기반 접근법\n",
    "- 사람들은 대화를 할 때 메시지 시퀀스(sequence of messages)를 주고받습니다.  \n",
    "- **메시지 방식**은 사용자와 어시스턴트 간의 대화를 보다 **자연스럽고 직관적으로 표현**합니다.  \n",
    "- 여기에는 다음과 같은 요소들이 포함됩니다:  \n",
    "   1. **사용자 메시지(User Message):** 사용자의 질문이나 요청  \n",
    "   2. **어시스턴트 메시지(Assistant Message):** AI가 생성한 답변  \n",
    "   3. **도구 메시지(Tool Message):** 검색된 문서나 기타 참고 자료  \n",
    "\n",
    "---\n",
    "\n",
    "### 왜 메시지 방식이 더 나은가? \n",
    "- **더 직관적:** 실제 대화처럼 시간 순서대로 메시지를 쌓아올립니다.  \n",
    "- **유연함:** 검색된 문서나 외부 도구의 결과도 **메시지 형태**로 자연스럽게 추가할 수 있습니다.  \n",
    "- **일관성 유지:** AI가 맥락을 유지하면서 이전 대화와의 연관성을 이해하기 쉽습니다.  \n",
    "\n",
    "---\n",
    "\n",
    "#### **새로운 메시지(messages) 방식:**\n",
    "```python\n",
    "messages = [\n",
    "    {\"role\": \"user\", \"content\": \"고양이는 몇 살까지 살아요?\"},\n",
    "    {\"role\": \"tool\", \"content\": \"검색 결과: 고양이의 평균 수명은 12-18년입니다.\"},\n",
    "    {\"role\": \"assistant\", \"content\": \"고양이는 보통 12-18년 정도 삽니다.\"}\n",
    "]\n",
    "```\n",
    "---\n",
    "\n",
    "**즉, 메시지 방식은 RAG 애플리케이션을 더 자연스럽고 직관적으로 만들기 위한 개선된 표현 방식입니다.**  "
   ]
  },
  {
   "cell_type": "markdown",
   "id": "335abbbf-109f-4eca-9563-d2f6c77995d5",
   "metadata": {},
   "source": [
    "**도구 호출(tool-calling)** 을 활용해 검색 단계와 상호작용하는 것에는 또 다른 이점이 있습니다. 바로 **검색에 사용할 쿼리를 모델이 직접 생성할 수 있다는 점**입니다.  \n",
    "\n",
    "이것은 특히 **대화형 환경(conversational setting)** 에서 중요합니다. 사용자의 질문이 **대화 이력(chat history)** 을 기반으로 문맥화되어야 할 수 있기 때문입니다.  \n",
    "\n",
    "---\n",
    "\n",
    "### **예시 대화**  \n",
    "\n",
    "> **Human:** \"Task Decomposition이란 무엇인가요?\"  \n",
    "> **AI:** \"Task Decomposition은 복잡한 작업을 더 작고 단순한 단계로 나누어, 에이전트나 모델이 더 쉽게 관리할 수 있도록 만드는 과정입니다.\"  \n",
    "> **Human:** \"일반적으로 Task Decomposition을 수행하는 방법에는 어떤 것들이 있나요?\"  \n",
    "\n",
    "- 이 시나리오에서 모델은 `\"Task Decomposition의 일반적인 접근법\"`과 같은 검색 쿼리를 생성할 수 있습니다.  \n",
    "- **도구 호출(tool-calling)** 은 이런 과정을 자연스럽게 지원합니다.  \n",
    "\n",
    "---\n",
    "\n",
    "### **도구 호출의 장점**  \n",
    "\n",
    "1. **쿼리 최적화(Query Optimization)**  \n",
    "   - 모델은 사용자 입력을 더 효과적인 검색 쿼리로 **재작성(rewrite)** 할 수 있습니다.   \n",
    "<p></p>\n",
    "2. **대화 이력(Contextualization)**  \n",
    "   - 모델은 대화 기록을 활용해 사용자 질문을 더 명확한 검색어로 변환할 수 있습니다.  \n",
    "<p></p>\n",
    "3. **직접 응답 지원**  \n",
    "   - 검색 단계가 필요 없는 질문(예: \"Hello!\"와 같은 인사말)에 대해 바로 응답할 수 있습니다.  \n",
    "\n",
    "이제 검색 단계를 **도구(tool)** 로 전환해 보겠습니다. 이렇게 하면 모델이 검색을 더 자연스럽고 효율적으로 수행할 수 있습니다.  \n",
    "\n",
    "- response_format=\"content_and_artifact : 이 설정은 도구의 출력이 두 부분으로 구성됨을 나타냅니다:  \n",
    "    콘텐츠(content): 모델이 처리할 수 있는 문자열 형태의 요약 또는 설명입니다.  \n",
    "    아티팩트(artifact): 모델 외부에서 사용될 실제 데이터나 객체입니다."
   ]
  },
  {
   "cell_type": "code",
   "execution_count": 17,
   "id": "f9ce2c96",
   "metadata": {},
   "outputs": [],
   "source": [
    "from langchain_core.tools import tool\n",
    "\n",
    "# 검색(retrieve) 함수를 도구로 정의\n",
    "# - response_format=\"content_and_artifact\": 결과를 콘텐츠(content)와 아티팩트(artifact)로 반환\n",
    "@tool(response_format=\"content_and_artifact\")\n",
    "def retrieve(query: str):\n",
    "    \"\"\"\n",
    "    주어진 쿼리와 관련된 정보를 검색합니다.\n",
    "    - query: 검색할 텍스트 쿼리입니다.\n",
    "    \"\"\"    \n",
    "    # 벡터 스토어에서 유사도 검색 수행. 가장 유사한 두 개의 문서를 반환.\n",
    "    retrieved_docs = vector_store.similarity_search(query, k=2)\n",
    "    \n",
    "    # 검색된 문서를 문자열로 직렬화\n",
    "    serialized = \"\\n\\n\".join(\n",
    "        (f\"Source: {doc.metadata}\\n\" f\"Content {doc.page_content}\")\n",
    "        for doc in retrieved_docs\n",
    "    )\n",
    "    \n",
    "    # 직렬화된 결과(content)와 원본 문서 목록(artifact) 반환.\n",
    "    return serialized, retrieved_docs"
   ]
  },
  {
   "cell_type": "markdown",
   "id": "246d848d-f5b5-4bc7-a15d-1ed1f1105c04",
   "metadata": {},
   "source": [
    "```\n",
    "# serialized 예시\n",
    "class Doc:\n",
    "    def __init__(self, metadata, page_content):\n",
    "        self.metadata = metadata\n",
    "        self.page_content = page_content\n",
    "\n",
    "retrieved_docs = [\n",
    "    Doc(metadata=\"Document 1\", page_content=\"This is the first document.\"),\n",
    "    Doc(metadata=\"Document 2\", page_content=\"This is the second document.\")\n",
    "]\n",
    "\n",
    "serialized = \"\\n\\n\".join(\n",
    "    f\"Source: {doc.metadata}\\nContent: {doc.page_content}\"\n",
    "    for doc in retrieved_docs\n",
    ")\n",
    "\n",
    "print(serialized)\n",
    "```"
   ]
  },
  {
   "cell_type": "markdown",
   "id": "c2300c04-019c-4c65-a104-3dbf17c924b7",
   "metadata": {
    "id": "c2300c04-019c-4c65-a104-3dbf17c924b7"
   },
   "source": [
    "### **대화 기록(chat history)의 상태(Stateful) 관리**\n",
    "\n",
    "1. 애플리케이션을 컴파일할 때 **[체크포인터(checkpointer)](https://langchain-ai.github.io/langgraph/concepts/persistence/)** 를 설정합니다.  그래프의 각 노드가 상태(state)에 메시지를 추가하기 때문에,    **호출(invocation)** 이 반복되어도 일관된 **대화 기록(chat history)** 이 유지됩니다.\n",
    "\n",
    "2. LangGraph에는 간단한 **인메모리 체크포인터(In-memory Checkpointer)** 가 내장되어 있습니다.  "
   ]
  },
  {
   "cell_type": "code",
   "execution_count": 18,
   "id": "4de34b68",
   "metadata": {},
   "outputs": [],
   "source": [
    "from langgraph.checkpoint.memory import MemorySaver\n",
    "\n",
    "memory = MemorySaver()"
   ]
  },
  {
   "cell_type": "markdown",
   "id": "0ad23c71-3c99-4d9d-b494-9b7a08a557c0",
   "metadata": {
    "id": "0ad23c71-3c99-4d9d-b494-9b7a08a557c0"
   },
   "source": [
    "## **에이전트(Agents)**\n",
    "\n",
    "**에이전트(Agents)** 는 **대규모 언어 모델(LLMs)의 추론 능력(reasoning capabilities)** 을 활용하여 실행 중에 의사 결정을 내릴 수 있도록 합니다.  \n",
    "\n",
    "에이전트를 사용하면 **검색(retrieval) 프로세스의 일부 권한을 모델에 위임**할 수 있습니다.  \n",
    "\n",
    "- **체인(chain)** 방식보다 예측 가능성은 떨어질 수 있지만,  \n",
    "- **여러 번의 검색 단계**를 실행하거나,  \n",
    "- **단일 검색을 반복적으로 수행**할 수 있습니다.\n",
    "\n",
    "---\n",
    "\n",
    "### **간단한 RAG ReAct 에이전트 구성**\n",
    "  \n",
    "**LangGraph**의 [**사전 구축된 ReAct 에이전트 생성자(pre-built ReAct agent constructor)**](https://langchain-ai.github.io/langgraph/how-tos/#langgraph.prebuilt.chat_agent_executor.create_react_agent)를 사용하면, 한 줄의 코드로 이를 구현할 수 있습니다.\n",
    "\n",
    "---"
   ]
  },
  {
   "cell_type": "code",
   "execution_count": 19,
   "id": "e7b77651",
   "metadata": {},
   "outputs": [],
   "source": [
    "from langgraph.prebuilt import create_react_agent  # 사전 구축된 ReAct 에이전트 생성자\n",
    "\n",
    "# ReAct 에이전트 생성\n",
    "# - [retrieve]: 에이전트가 사용할 도구 목록입니다.\n",
    "# - checkpointer=memory: 상태(대화 기록 등)를 메모리에 저장.\n",
    "agent_executor = create_react_agent(\n",
    "    llm, \n",
    "    [retrieve], \n",
    "    checkpointer=memory\n",
    ")"
   ]
  },
  {
   "cell_type": "code",
   "execution_count": 20,
   "id": "b4c96eb1",
   "metadata": {},
   "outputs": [
    {
     "data": {
      "image/png": "[encoded data removed]",
      "text/plain": [
       "<IPython.core.display.Image object>"
      ]
     },
     "metadata": {},
     "output_type": "display_data"
    }
   ],
   "source": [
    "from IPython.display import Image, display\n",
    "\n",
    "display(Image(agent_executor.get_graph().draw_mermaid_png()))"
   ]
  },
  {
   "cell_type": "markdown",
   "id": "28623a52-7906-440f-8aaf-d6bb5ecbad98",
   "metadata": {
    "id": "28623a52-7906-440f-8aaf-d6bb5ecbad98"
   },
   "source": [
    "**도구 호출(tool invocation)** 이 원래 LLM 호출로 다시 돌아갑니다. \n",
    "\n",
    "- 모델은 검색된 문맥을 사용해 **질문에 답변**할 수도 있고,  \n",
    "- 더 많은 정보를 얻기 위해 **다른 도구 호출(tool call)** 을 생성할 수도 있습니다.  \n",
    "\n",
    "이제 일반적으로 **여러 단계의 반복적 검색(retrieval steps)** 이 필요한 질문을 만들어 테스트해 봅니다."
   ]
  },
  {
   "cell_type": "code",
   "execution_count": 23,
   "id": "9f5b1eb0-141b-449c-ba5f-dfa3159a7934",
   "metadata": {},
   "outputs": [
    {
     "name": "stdout",
     "output_type": "stream",
     "text": [
      "================================\u001b[1m Human Message \u001b[0m=================================\n",
      "\n",
      "안녕? 내 이름은 길동이야\n",
      "==================================\u001b[1m Ai Message \u001b[0m==================================\n",
      "\n",
      "안녕하세요, 길동님! 만나서 반갑습니다. 무엇을 도와드릴까요?\n"
     ]
    }
   ],
   "source": [
    "config = {\"configurable\": {\"thread_id\": \"def234\"}}\n",
    "\n",
    "# tools 호출이 필요 없는 query\n",
    "input_message = (\n",
    "    \"안녕? 내 이름은 길동이야\" \n",
    ")\n",
    "\n",
    "for event in agent_executor.stream(\n",
    "    {\"messages\": [{\"role\": \"user\", \"content\": input_message}]},\n",
    "    stream_mode=\"values\",\n",
    "    config=config\n",
    "):\n",
    "    event[\"messages\"][-1].pretty_print()"
   ]
  },
  {
   "cell_type": "code",
   "execution_count": 24,
   "id": "cb03050f",
   "metadata": {},
   "outputs": [
    {
     "name": "stdout",
     "output_type": "stream",
     "text": [
      "================================\u001b[1m Human Message \u001b[0m=================================\n",
      "\n",
      "Task Decomposition의 표준 방법은 무엇인가요??\n",
      "\n",
      "답변을 얻은 후, 해당 방법의 일반적인 확장 방법들을 찾아보세요.\n",
      "==================================\u001b[1m Ai Message \u001b[0m==================================\n",
      "Tool Calls:\n",
      "  retrieve (call_fmAl2r5eelGJIMjdMWiBDGoa)\n",
      " Call ID: call_fmAl2r5eelGJIMjdMWiBDGoa\n",
      "  Args:\n",
      "    query: Task Decomposition standard methods\n",
      "  retrieve (call_6AMJRMGPuAYUqXbIkFf4BBKq)\n",
      " Call ID: call_6AMJRMGPuAYUqXbIkFf4BBKq\n",
      "  Args:\n",
      "    query: Task Decomposition common extension methods\n",
      "=================================\u001b[1m Tool Message \u001b[0m=================================\n",
      "Name: retrieve\n",
      "\n",
      "Source: {'source': 'https://lilianweng.github.io/posts/2023-06-23-agent/'}\n",
      "Content Tree of Thoughts (Yao et al. 2023) extends CoT by exploring multiple reasoning possibilities at each step. It first decomposes the problem into multiple thought steps and generates multiple thoughts per step, creating a tree structure. The search process can be BFS (breadth-first search) or DFS (depth-first search) with each state evaluated by a classifier (via a prompt) or majority vote.\n",
      "Task decomposition can be done (1) by LLM with simple prompting like \"Steps for XYZ.\\n1.\", \"What are the subgoals for achieving XYZ?\", (2) by using task-specific instructions; e.g. \"Write a story outline.\" for writing a novel, or (3) with human inputs.\n",
      "\n",
      "Source: {'source': 'https://lilianweng.github.io/posts/2023-06-23-agent/'}\n",
      "Content Tree of Thoughts (Yao et al. 2023) extends CoT by exploring multiple reasoning possibilities at each step. It first decomposes the problem into multiple thought steps and generates multiple thoughts per step, creating a tree structure. The search process can be BFS (breadth-first search) or DFS (depth-first search) with each state evaluated by a classifier (via a prompt) or majority vote.\n",
      "Task decomposition can be done (1) by LLM with simple prompting like \"Steps for XYZ.\\n1.\", \"What are the subgoals for achieving XYZ?\", (2) by using task-specific instructions; e.g. \"Write a story outline.\" for writing a novel, or (3) with human inputs.\n",
      "==================================\u001b[1m Ai Message \u001b[0m==================================\n",
      "\n",
      "### Task Decomposition의 표준 방법\n",
      "\n",
      "1. **간단한 프롬프트 사용**: 대형 언어 모델(LLM)을 활용하여 \"Steps for XYZ.\\n1.\" 또는 \"What are the subgoals for achieving XYZ?\"와 같은 프롬프트를 통해 문제를 분해합니다.\n",
      "\n",
      "2. **작업 특화 지침 활용**: 특정 작업에 맞는 지침을 사용하여 예를 들어, \"Write a story outline.\"와 같은 지시를 통해 작업을 정의하고 분해합니다.\n",
      "\n",
      "3. **인간 입력**: 인간의 입력을 통해 작업을 분해하는 방법도 있습니다.\n",
      "\n",
      "### 일반적인 확장 방법\n",
      "\n",
      "Task Decomposition의 확장 방법으로는 다음과 같은 것들이 있습니다:\n",
      "\n",
      "- **Tree of Thoughts**: Yao et al. (2023)에서 제안된 방법으로, 각 단계에서 여러 사고 가능성을 탐색하고 여러 생각을 생성하여 트리 구조를 형성합니다. 이 과정에서 BFS(너비 우선 탐색) 또는 DFS(깊이 우선 탐색)를 사용할 수 있으며, 각 상태는 분류기(프롬프트를 통해) 또는 다수결 방식으로 평가됩니다.\n",
      "\n",
      "이러한 방법들은 다양한 상황에 적용될 수 있으며, 문제 해결에 있어 더 깊이 있는 분석과 접근 방식을 제공합니다.\n"
     ]
    }
   ],
   "source": [
    "# tools 호출이 필요한 query\n",
    "input_message = (\n",
    "    \"Task Decomposition의 표준 방법은 무엇인가요??\\n\\n\"\n",
    "    \"답변을 얻은 후, 해당 방법의 일반적인 확장 방법들을 찾아보세요.\"  \n",
    ")\n",
    "\n",
    "for event in agent_executor.stream(\n",
    "    {\"messages\": [{\"role\": \"user\", \"content\": input_message}]},\n",
    "    stream_mode=\"values\",\n",
    "    config=config\n",
    "):\n",
    "    event[\"messages\"][-1].pretty_print()"
   ]
  },
  {
   "cell_type": "markdown",
   "id": "47ab58d2-92ef-4940-a535-7c8808e75523",
   "metadata": {
    "id": "47ab58d2-92ef-4940-a535-7c8808e75523"
   },
   "source": [
    "### **에이전트의 동작 과정:**\n",
    "\n",
    "1. **표준 Task Decomposition 방법을 검색하기 위한 쿼리**를 생성합니다.  \n",
    "2. 답변을 받은 후, **그 방법의 일반적인 확장 방법**을 검색하기 위한 **두 번째 쿼리**를 생성합니다.  \n",
    "3. 필요한 모든 문맥을 얻은 후, **최종 답변을 생성합니다.**  \n",
    "\n",
    "---\n",
    "\n",
    "**전체 단계, 지연 시간(latency), 기타 메타데이터**를 [**LangSmith 추적(trace)**](https://smith.langchain.com/o/351c6cd9-1396-5c74-9478-1ee6a22a6433/projects/p/acec9d4d-4978-4597-adff-789cd42e200f?timeModel=%7B%22duration%22%3A%227d%22%7D&peek=cdffcf73-c9f6-460c-9c17-43a43180d695)에서 확인할 수 있습니다.\n",
    "\n",
    "---\n",
    "\n",
    "이제 LangChain과 LangGraph의 다양한 기능을 활용해 더욱 **강력한 대화형 Q&A 애플리케이션**을 구축할 수 있습니다!"
   ]
  },
  {
   "cell_type": "code",
   "execution_count": null,
   "id": "1c115fd1-8fa7-4bdb-a88d-7f6285c42b5a",
   "metadata": {},
   "outputs": [],
   "source": []
  }
 ],
 "metadata": {
  "colab": {
   "provenance": []
  },
  "kernelspec": {
   "display_name": "Python 3 (ipykernel)",
   "language": "python",
   "name": "python3"
  },
  "language_info": {
   "codemirror_mode": {
    "name": "ipython",
    "version": 3
   },
   "file_extension": ".py",
   "mimetype": "text/x-python",
   "name": "python",
   "nbconvert_exporter": "python",
   "pygments_lexer": "ipython3",
   "version": "3.9.21"
  }
 },
 "nbformat": 4,
 "nbformat_minor": 5
}
