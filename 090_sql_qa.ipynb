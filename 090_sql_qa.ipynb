{
 "cells": [
  {
   "cell_type": "markdown",
   "id": "7d139eed",
   "metadata": {
    "id": "9SaUhrmqNBTl"
   },
   "source": [
    "#  **SQL 데이터를 활용한 질문/응답(Q&A) 시스템 구축**\n",
    "\n",
    "LLM(대규모 언어 모델) 시스템이 **구조화된 데이터(structured data)** 를 쿼리하도록 만드는 것은 **비구조화된 텍스트(unstructured text data)** 를 처리하는 것과는 상당히 다른 접근 방식이 필요합니다.\n",
    "\n",
    "- **비구조화된 데이터:** 주로 벡터 데이터베이스를 사용하여 텍스트를 검색합니다.  \n",
    "- **구조화된 데이터:** LLM이 SQL과 같은 언어를 사용하여 **쿼리(query)**를 작성하고 실행합니다.\n",
    "\n",
    "다음 두 가지 구현 방식을 다룹니다:  \n",
    "1. **체인(Chains)**\n",
    "2. **에이전트(Agents)**\n",
    "\n",
    "이 시스템을 통해 **데이터베이스에 대한 질문을 자연어로 입력**하고, **자연어로 답변을 받을 수 있습니다.**\n",
    "\n",
    "- **체인:** 단일 SQL 쿼리를 실행하여 답변을 생성합니다.  \n",
    "- **에이전트:** 필요에 따라 여러 번 데이터베이스를 쿼리하여 답변을 생성합니다.\n",
    "---\n",
    "\n",
    "## **아키텍처 (Architecture)**\n",
    "\n",
    "1. **질문을 SQL 쿼리로 변환:**  \n",
    "   - 모델이 사용자 입력을 SQL 쿼리로 변환합니다.  \n",
    "<p></p>\n",
    "2. **SQL 쿼리 실행:**  \n",
    "   - 변환된 SQL 쿼리를 데이터베이스에서 실행합니다.  \n",
    "<p></p>\n",
    "3. **질문에 답변:**  \n",
    "   - 모델이 SQL 쿼리 결과를 바탕으로 사용자 질문에 대한 답변을 생성합니다.  \n",
    "\n",
    "<img src=\"https://python.langchain.com/assets/images/sql_usecase-d432701261f05ab69b38576093718cf3.png\" />"
   ]
  },
  {
   "cell_type": "code",
   "execution_count": 1,
   "id": "53b11a57",
   "metadata": {},
   "outputs": [],
   "source": [
    "# !pip install -qU \\\n",
    "# python-dotenv \\\n",
    "# langchain \\\n",
    "# langchain-community \\\n",
    "# openai \\\n",
    "# anthropic \\\n",
    "# langchain-openai \\\n",
    "# langchain-anthropic \\\n",
    "# langchain-google-genai \\\n",
    "# python-dotenv \\\n",
    "# langchainhub \\\n",
    "# langgraph"
   ]
  },
  {
   "cell_type": "code",
   "execution_count": 2,
   "id": "09ff0625",
   "metadata": {},
   "outputs": [
    {
     "data": {
      "text/plain": [
       "True"
      ]
     },
     "execution_count": 2,
     "metadata": {},
     "output_type": "execute_result"
    }
   ],
   "source": [
    "import os\n",
    "from dotenv import load_dotenv\n",
    "load_dotenv()"
   ]
  },
  {
   "cell_type": "code",
   "execution_count": 3,
   "id": "26b1d313",
   "metadata": {},
   "outputs": [],
   "source": [
    "# LangChain 추적(Tracing) 설정 활성화\n",
    "os.environ['LANGCHAIN_TRACING_V2'] = \"true\""
   ]
  },
  {
   "cell_type": "markdown",
   "id": "c90169e7",
   "metadata": {
    "id": "PxA5MLayNBTo"
   },
   "source": [
    "### **샘플 데이터**\n",
    "\n",
    "이 예제에서는 **SQLite** 연결을 사용하여 **Chinook 데이터베이스**를 활용합니다.  \n",
    "Chinook 데이터베이스는 **디지털 미디어 스토어**를 나타내는 샘플 데이터베이스입니다.\n",
    "\n",
    "---\n",
    "\n",
    "##  **Chinook 데이터베이스 설치**\n",
    "\n",
    "[설치 가이드](https://database.guide/2-sample-databases-sqlite/)를 따라 `Chinook.db`를 현재 노트북과 같은 디렉터리에 생성합니다.  \n",
    "\n",
    "또는, 아래 명령어를 사용하여 커맨드 라인에서 데이터베이스를 다운로드하고 빌드할 수 있습니다:\n",
    "\n",
    "```bash\n",
    "curl -s https://raw.githubusercontent.com/lerocha/chinook-database/master/ChinookDatabase/DataSources/Chinook_Sqlite.sql | sqlite3 Chinook.db\n",
    "```\n",
    "\n",
    "### **설명:**  \n",
    "1. `curl` 명령어를 사용하여 Chinook 데이터베이스 SQL 스크립트를 다운로드합니다.  \n",
    "2. `sqlite3`를 사용해 SQL 스크립트를 실행하고 `Chinook.db` 파일을 생성합니다.\n",
    "\n",
    "---\n",
    "이 데이터베이스는 **SQLAlchemy 기반의 `SQLDatabase` 클래스**를 사용하여 상호작용할 수 있습니다."
   ]
  },
  {
   "cell_type": "code",
   "execution_count": 4,
   "id": "5e2263b0",
   "metadata": {},
   "outputs": [],
   "source": [
    "# SQLite3 설치 in Colab\n",
    "# !sudo apt-get update\n",
    "# !sudo apt-get install sqlite3"
   ]
  },
  {
   "cell_type": "code",
   "execution_count": 5,
   "id": "8d608d36",
   "metadata": {},
   "outputs": [],
   "source": [
    "# Chinook db 설치 in Colab\n",
    "# !curl -s https://raw.githubusercontent.com/lerocha/chinook-database/master/ChinookDatabase/DataSources/Chinook_Sqlite.sql | sqlite3 Chinook.db"
   ]
  },
  {
   "cell_type": "code",
   "execution_count": 6,
   "id": "890e073d",
   "metadata": {},
   "outputs": [
    {
     "name": "stdout",
     "output_type": "stream",
     "text": [
      "sqlite\n",
      "['Album', 'Artist', 'Customer', 'Employee', 'Genre', 'Invoice', 'InvoiceLine', 'MediaType', 'Playlist', 'PlaylistTrack', 'Track']\n"
     ]
    },
    {
     "data": {
      "text/plain": [
       "\"[(1, 'AC/DC'), (2, 'Accept'), (3, 'Aerosmith'), (4, 'Alanis Morissette'), (5, 'Alice In Chains'), (6, 'Antônio Carlos Jobim'), (7, 'Apocalyptica'), (8, 'Audioslave'), (9, 'BackBeat'), (10, 'Billy Cobham')]\""
      ]
     },
     "execution_count": 6,
     "metadata": {},
     "output_type": "execute_result"
    }
   ],
   "source": [
    "from langchain_community.utilities import SQLDatabase\n",
    "\n",
    "# SQLite 데이터베이스 파일 'Chinook.db'에 연결합니다.\n",
    "db = SQLDatabase.from_uri(\"sqlite:///Chinook.db\")\n",
    "\n",
    "# 사용 중인 데이터베이스의 SQL 방언(SQL Dialect)을 출력합니다.\n",
    "print(db.dialect)\n",
    "\n",
    "# 데이터베이스에서 사용할 수 있는 테이블 이름들을 출력합니다.\n",
    "print(db.get_usable_table_names())\n",
    "\n",
    "result = db.run(\"SELECT * FROM Artist LIMIT 10;\")\n",
    "result"
   ]
  },
  {
   "cell_type": "markdown",
   "id": "579f72d1",
   "metadata": {
    "id": "R0iAv4dqNBTp"
   },
   "source": [
    "##  **SQL 데이터베이스를 LLM과 연결하기**\n",
    "\n",
    "##  **체인(Chains)**\n",
    "\n",
    "**체인(Chains)** 은 예측 가능한 단계들의 조합입니다.  \n",
    "**LangGraph**에서는 체인을 간단한 **노드들의 순서(sequence of nodes)** 로 표현할 수 있습니다.\n",
    "\n",
    "주어진 질문에 대해 다음 단계를 수행하는 일련의 단계를 LangGraph를 이용하여 만들어 보겠습니다:  \n",
    "\n",
    "- 질문을 **SQL 쿼리로 변환**합니다.  \n",
    "- 쿼리를 **실행**합니다.  \n",
    "- 쿼리 **결과를 사용해 원래 질문에 답변**합니다.  \n",
    "\n",
    "---\n",
    "\n",
    "이 구조에서는 다음과 같은 시나리오를 지원하지 않습니다:  \n",
    "\n",
    "1. 이 시스템은 모든 사용자 입력에 대해 SQL 쿼리를 실행합니다.  \n",
    "   - 예: `\"hello\"`라는 입력에도 SQL 쿼리를 실행합니다.  \n",
    "2. 일부 질문은 **여러 개의 쿼리**가 필요할 수 있습니다.  \n",
    "\n",
    "이러한 시나리오는 **에이전트(Agents)** 를 이용하여 구현해야 합니다.\n",
    "\n",
    "---\n",
    "\n",
    "## **애플리케이션 상태(Application State)**\n",
    "\n",
    "LangGraph의 **상태(State)** 는 애플리케이션에 입력되는 데이터, 단계 간에 전달되는 데이터, 그리고 출력되는 데이터를 제어합니다.  \n",
    "\n",
    "- 일반적으로 `TypedDict`로 정의됩니다.  \n",
    "- 또는, [**Pydantic BaseModel**](https://langchain-ai.github.io/langgraph/how-tos/state-model/)을 사용할 수도 있습니다.\n",
    "\n",
    "---\n",
    "\n",
    "###  **이 애플리케이션의 상태(State)**\n",
    "\n",
    "이 애플리케이션에서는 다음 데이터를 추적합니다:  \n",
    "\n",
    "1. **입력된 질문 (Input Question)**  \n",
    "2. **생성된 SQL 쿼리 (Generated Query)**  \n",
    "3. **쿼리 결과 (Query Result)**  \n",
    "4. **생성된 답변 (Generated Answer)**  "
   ]
  },
  {
   "cell_type": "code",
   "execution_count": 7,
   "id": "049f7bc1",
   "metadata": {},
   "outputs": [],
   "source": [
    "from typing_extensions import TypedDict, Annotated\n",
    "\n",
    "# 상태(State) 정의\n",
    "# - 애플리케이션에서 상태(State)는 단계 간에 전달되는 데이터를 추적하기 위해 사용됩니다.\n",
    "# - TypedDict를 사용하여 상태에서 사용할 키(key)와 해당 값(value)의 데이터 타입을 정의합니다.\n",
    "class State(TypedDict):\n",
    "    question: str    # 사용자로부터 입력받은 질문\n",
    "    query: str         # 질문을 변환하여 생성된 SQL 쿼리\n",
    "    result: str         # SQL 쿼리 실행 결과\n",
    "    answer: str      # 최종적으로 생성된 LLM 답변"
   ]
  },
  {
   "cell_type": "markdown",
   "id": "fddd2037",
   "metadata": {
    "id": "TR8FsjieNBTp"
   },
   "source": [
    "이제 이 상태(state)를 기반으로 작동하며 내용을 채워주는 **함수**들이 필요합니다.\n",
    "\n",
    "---\n",
    "\n",
    "## **질문을 SQL 쿼리로 변환하기**\n",
    "\n",
    "첫 번째 단계는 **사용자 입력을 SQL 쿼리로 변환**하는 것입니다.  \n",
    "SQL 쿼리를 신뢰성 있게 생성하기 위해(마크다운 형식, 설명 또는 부가적인 내용 없이) LangChain의 **구조화된 출력(structured output)** 추상화를 사용할 것입니다."
   ]
  },
  {
   "cell_type": "code",
   "execution_count": 8,
   "id": "85f030b2",
   "metadata": {},
   "outputs": [],
   "source": [
    "from langchain_openai import ChatOpenAI\n",
    "llm = ChatOpenAI(model=\"gpt-4o\", temperature=0)\n",
    "\n",
    "# from langchain_anthropic import ChatAnthropic\n",
    "# llm = ChatAnthropic(model=\"claude-3-5-haiku-20241022\")"
   ]
  },
  {
   "cell_type": "markdown",
   "id": "9172271e",
   "metadata": {
    "id": "54ez2xnhNBTr"
   },
   "source": [
    "---------\n",
    "이 프롬프트에는 **SQL 방언(dialect)** 과 **테이블 정보(table_info)** 와 같은 채워야 할 여러 매개변수들이 포함되어 있습니다.  \n",
    "\n",
    "LangChain의 [`SQLDatabase`](https://python.langchain.com/api_reference/community/utilities/langchain_community.utilities.sql_database.SQLDatabase.html) 객체에는 이러한 작업을 도와주는 메서드들이 포함되어 있습니다.  \n",
    "\n",
    "우리의 `write_query` 단계는 이 매개변수들을 채운 뒤, **모델을 프롬프트하여 SQL 쿼리를 생성**하도록 할 것입니다."
   ]
  },
  {
   "cell_type": "code",
   "execution_count": 9,
   "id": "0c911f2d-ec30-4655-9839-8844e46cc290",
   "metadata": {},
   "outputs": [
    {
     "name": "stdout",
     "output_type": "stream",
     "text": [
      "{'query': 'SELECT COUNT(*) AS NumberOfEmployees FROM Employee;'}\n"
     ]
    }
   ],
   "source": [
    "from langchain_core.prompts import ChatPromptTemplate\n",
    "\n",
    "# SQL 쿼리 프롬프트 템플릿 정의\n",
    "query_prompt = ChatPromptTemplate.from_messages([\n",
    "    (\"system\", \"\"\"당신은 SQL 전문가입니다. 주어진 질문을 SQL 쿼리로 변환하는 작업을 수행합니다.\n",
    "    다음 정보를 참고하여 SQL 쿼리를 작성하세요:\n",
    "    \n",
    "    방언(dialect): {dialect}\n",
    "    테이블 정보: {table_info}\n",
    "    최대 결과 수: {top_k}\n",
    "    \n",
    "    쿼리는 문법적으로 정확해야 하며, 질문에 대한 정확한 답을 제공해야 합니다.\"\"\"),\n",
    "    (\"human\", \"{input}\")\n",
    "])\n",
    "\n",
    "class QueryOutput(TypedDict):\n",
    "    \"\"\"생성된 SQL 쿼리를 저장하는 데이터 타입입니다.\"\"\"\n",
    "    query: Annotated[str, \"문법적으로 올바른 SQL 쿼리여야 합니다.\"]\n",
    "\n",
    "def write_query(state: State):\n",
    "    \"\"\"\n",
    "    정보를 검색하기 위한 SQL 쿼리를 생성합니다.\n",
    "    \"\"\"\n",
    "    prompt = query_prompt.invoke({\n",
    "        \"dialect\": db.dialect,\n",
    "        \"top_k\": 10,\n",
    "        \"table_info\": db.get_table_info(),\n",
    "        \"input\": state[\"question\"]\n",
    "    })\n",
    "    \n",
    "    structured_llm = llm.with_structured_output(QueryOutput)\n",
    "    result = structured_llm.invoke(prompt)\n",
    "    \n",
    "    return {\"query\": result[\"query\"]}\n",
    "\n",
    "# 테스트\n",
    "sql_result = write_query({\"question\": \"직원이 몇명 있나요?\"})\n",
    "print(sql_result)"
   ]
  },
  {
   "cell_type": "markdown",
   "id": "e5bf1fc0",
   "metadata": {
    "id": "GVMbNm2CNBTr"
   },
   "source": [
    "### **쿼리 실행 (Execute query)**\n",
    "\n",
    "**이 단계는 SQL 체인을 만드는 과정에서 가장 주의할 부분입니다.**  \n",
    "자동화된 쿼리를 데이터베이스에서 실행해도 안전한지 신중하게 검토해야 합니다.  \n",
    "**데이터베이스 연결 권한은 가능한 한 최소화**하세요.  \n",
    "또한, 쿼리를 실행하기 전에 **사람의 승인 단계(human approval step)** 를 체인에 추가하는 것을 고려하세요."
   ]
  },
  {
   "cell_type": "code",
   "execution_count": 10,
   "id": "c1559c02",
   "metadata": {},
   "outputs": [
    {
     "name": "stdout",
     "output_type": "stream",
     "text": [
      "{'result': '[(8,)]'}\n"
     ]
    }
   ],
   "source": [
    "from langchain_community.tools.sql_database.tool import QuerySQLDatabaseTool\n",
    "\n",
    "def execute_query(state: State):\n",
    "    # QuerySQLDatabaseTool을 사용하여 데이터베이스에 쿼리 실행\n",
    "    execute_query_tool = QuerySQLDatabaseTool(db=db)\n",
    "    \n",
    "    # state[\"query\"]에 저장된 SQL 쿼리를 실행하고 결과 반환\n",
    "    result = execute_query_tool.invoke(state[\"query\"])\n",
    "    return {\"result\": result}\n",
    "    \n",
    "# SQL 쿼리 실행 예제\n",
    "result = execute_query({\"query\": sql_result})\n",
    "print(result)"
   ]
  },
  {
   "cell_type": "markdown",
   "id": "952e8a5a",
   "metadata": {
    "id": "2WkY0SAGNBTs"
   },
   "source": [
    "###  **답변 생성 (Generate answer)**  \n",
    "\n",
    "마지막 단계에서는 **데이터베이스에서 가져온 정보**를 바탕으로 질문에 대한 **답변을 생성**합니다."
   ]
  },
  {
   "cell_type": "code",
   "execution_count": 11,
   "id": "03dedf26",
   "metadata": {},
   "outputs": [],
   "source": [
    "def generate_answer(state: State):\n",
    "    \"\"\"가져온 정보를 문맥(context)으로 사용하여 질문에 답하세요.\"\"\"\n",
    "    prompt = (\n",
    "        \"다음 사용자 질문, 해당 SQL 쿼리, 그리고 SQL 결과를 바탕으로 사용자 질문에 답하세요.\\n\\n\"\n",
    "        f'Question: {state[\"question\"]}\\n'\n",
    "        f'SQL Query: {state[\"query\"]}\\n'\n",
    "        f'SQL Result: {state[\"result\"]}'\n",
    "    )\n",
    "    response = llm.invoke(prompt)\n",
    "    return {'answer': response.content}"
   ]
  },
  {
   "cell_type": "markdown",
   "id": "549d207a",
   "metadata": {
    "id": "g0gH5i9BNBTs"
   },
   "source": [
    "### **LangGraph를 사용한 오케스트레이션 (Orchestrating with LangGraph)**  \n",
    "\n",
    "마지막으로, 우리의 애플리케이션을 하나의 **`graph` 객체**로 컴파일합니다.  \n",
    "이 경우, **세 가지 단계를 순서(sequence)** 로 연결하기만 하면 됩니다."
   ]
  },
  {
   "cell_type": "code",
   "execution_count": 12,
   "id": "351c63a9",
   "metadata": {},
   "outputs": [],
   "source": [
    "from langgraph.graph import START, StateGraph\n",
    "\n",
    "# StateGraph 생성\n",
    "workflow = StateGraph(State).add_sequence(\n",
    "    [write_query, execute_query, generate_answer]\n",
    ")\n",
    "\n",
    "# 그래프의 시작점(START)과 첫 번째 단계(write_query) 연결\n",
    "workflow.add_edge(START, \"write_query\")\n",
    "\n",
    "# 정의된 단계와 연결 관계를 기반으로 최종 그래프 생성\n",
    "app = workflow.compile()"
   ]
  },
  {
   "cell_type": "code",
   "execution_count": 13,
   "id": "837383ec",
   "metadata": {},
   "outputs": [
    {
     "data": {
      "image/png": "[encoded data removed]",
      "text/plain": [
       "<IPython.core.display.Image object>"
      ]
     },
     "metadata": {},
     "output_type": "display_data"
    }
   ],
   "source": [
    "from IPython.display import Image, display\n",
    "\n",
    "display(Image(app.get_graph().draw_mermaid_png()))"
   ]
  },
  {
   "cell_type": "markdown",
   "id": "3551b864",
   "metadata": {
    "id": "pT3Czu3NNBTs"
   },
   "source": [
    "각 단계를 개별적으로 **스트리밍(stream)** 하여 결과를 확인할 수 있습니다."
   ]
  },
  {
   "cell_type": "code",
   "execution_count": 14,
   "id": "7feb22b0",
   "metadata": {},
   "outputs": [
    {
     "name": "stdout",
     "output_type": "stream",
     "text": [
      "{'write_query': {'query': 'SELECT COUNT(*) AS NumberOfEmployees FROM Employee;'}}\n",
      "{'execute_query': {'result': '[(8,)]'}}\n",
      "{'generate_answer': {'answer': '회사는 총 8명의 직원을 보유하고 있습니다.'}}\n"
     ]
    }
   ],
   "source": [
    "for step in app.stream(\n",
    "    {\"question\": \"직원이 몇명인가요?\"},\n",
    "    stream_mode=\"updates\"\n",
    "):\n",
    "    print(step)"
   ]
  },
  {
   "cell_type": "markdown",
   "id": "f2fb2d55",
   "metadata": {
    "id": "Qu8h8_JcNBTs"
   },
   "source": [
    "[LangSmith trace](https://smith.langchain.com/o/351c6cd9-1396-5c74-9478-1ee6a22a6433/projects/p/acec9d4d-4978-4597-adff-789cd42e200f?timeModel=%7B%22duration%22%3A%227d%22%7D&peek=2f11a326-ed09-4c35-b057-211164093e1a)를 check해 봅니다."
   ]
  },
  {
   "cell_type": "markdown",
   "id": "3405cee6",
   "metadata": {
    "id": "Cy_ENnTINBTt"
   },
   "source": [
    "###  **Human-in-the-loop (인간 개입 단계)**  \n",
    "\n",
    "**LangGraph**는 이 워크플로우에 유용한 여러 기능을 지원합니다.  \n",
    "그 중 하나는 **[human-in-the-loop](https://langchain-ai.github.io/langgraph/concepts/human_in_the_loop/)** 입니다.  \n",
    "\n",
    "- 이 기능을 사용하면 **민감한 단계**(예: SQL 쿼리 실행) 전에 애플리케이션을 **중단(interrupt)** 하고 **사람이 검토(human review)** 할 수 있습니다.  \n",
    "\n",
    "- 이 기능은 LangGraph의 **[persistence(영속성)](https://langchain-ai.github.io/langgraph/concepts/persistence/)** 레이어를 통해 지원됩니다.  \n",
    "- 이 레이어는 애플리케이션의 실행 진행 상태(run progress)를 사용자가 선택한 저장소(storage)에 저장합니다.  \n",
    "\n",
    "아래 예시에서는 **인메모리(in-memory)** 저장소를 지정합니다."
   ]
  },
  {
   "cell_type": "code",
   "execution_count": 15,
   "id": "99995b4d",
   "metadata": {},
   "outputs": [],
   "source": [
    "from langgraph.checkpoint.memory import MemorySaver\n",
    "\n",
    "# 애플리케이션의 실행 상태(run progress)를 인메모리(in-memory) 저장소에 저장\n",
    "# 이를 통해 실행이 중단되거나 검토가 필요한 경우, 저장된 상태에서 다시 시작할 수 있습니다.\n",
    "memory = MemorySaver()\n",
    "\n",
    "# 그래프 컴파일 및 중단(interrupt) 지점 설정\n",
    "# - `checkpointer`: MemorySaver를 사용하여 실행 상태를 저장합니다.\n",
    "# - `interrupt_before`: \"execute_query\" 단계 전에 실행을 중단하여 사람이 검토(human review)할 수 있도록 합니다.\n",
    "app = workflow.compile(checkpointer=memory, interrupt_before=['execute_query'])\n",
    "\n",
    "# 영속성을 사용할 때는 실행을 이어갈 수 있도록 고유 식별 스레드 ID를 지정\n",
    "config = {\"configurable\": {\"thread_id\": \"1\"}}"
   ]
  },
  {
   "cell_type": "code",
   "execution_count": 16,
   "id": "bded6ab7",
   "metadata": {},
   "outputs": [
    {
     "data": {
      "image/png": "[encoded data removed]",
      "text/plain": [
       "<IPython.core.display.Image object>"
      ]
     },
     "metadata": {},
     "output_type": "display_data"
    }
   ],
   "source": [
    "display(Image(app.get_graph().draw_mermaid_png()))"
   ]
  },
  {
   "cell_type": "code",
   "execution_count": 17,
   "id": "c225e55f-a7f0-48b4-81b7-463afab01775",
   "metadata": {},
   "outputs": [
    {
     "name": "stdout",
     "output_type": "stream",
     "text": [
      "{'write_query': {'query': 'SELECT COUNT(*) AS NumberOfEmployees FROM Employee;'}}\n",
      "{'__interrupt__': ()}\n"
     ]
    }
   ],
   "source": [
    "for step in app.stream(\n",
    "    {\"question\": \"직원이 몇명인가요?\"},\n",
    "    stream_mode=\"updates\",\n",
    "    config=config\n",
    "):\n",
    "    print(step)"
   ]
  },
  {
   "cell_type": "markdown",
   "id": "bd364ae6",
   "metadata": {
    "id": "MpcWQfTLNBTt"
   },
   "source": [
    "----------\n",
    "동일한 실행(run)을 반복하되, 간단한 **예/아니오(yes/no) 승인 단계**를 추가해보겠습니다."
   ]
  },
  {
   "cell_type": "code",
   "execution_count": 18,
   "id": "2041711a",
   "metadata": {},
   "outputs": [
    {
     "name": "stdout",
     "output_type": "stream",
     "text": [
      "{'write_query': {'query': 'SELECT COUNT(*) AS NumberOfEmployees FROM Employee;'}}\n",
      "{'__interrupt__': ()}\n"
     ]
    },
    {
     "name": "stdin",
     "output_type": "stream",
     "text": [
      "쿼리를 실행하시겠습니까? (yes/no) yes\n"
     ]
    },
    {
     "name": "stdout",
     "output_type": "stream",
     "text": [
      "{'execute_query': {'result': '[(8,)]'}}\n",
      "{'generate_answer': {'answer': '회사는 총 8명의 직원을 보유하고 있습니다.'}}\n"
     ]
    }
   ],
   "source": [
    "# 그래프 실행 및 스트림 모드로 단계별 결과 확인\n",
    "for step in app.stream(\n",
    "    {\"question\": \"직원이 몇 명 있나요?\"},    # 사용자 입력 질문\n",
    "    config,         # 스레드 ID 및 설정 정보\n",
    "    stream_mode=\"updates\"  # 단계별 업데이트 결과를 스트리밍 모드로 출력\n",
    "):\n",
    "    print(step)  # 각 단계의 결과 출력\n",
    "    \n",
    "# execute_query 단계 전에 사용자 승인 여부 확인\n",
    "try:\n",
    "    user_approval = input(\"쿼리를 실행하시겠습니까? (yes/no)\")  # 사용자 승인 입력\n",
    "except Exception:\n",
    "    user_approval = \"no\"  # 예외 발생 시 기본값으로 'no' 설정\n",
    "    \n",
    "# 승인 확인\n",
    "if user_approval.lower() == \"yes\":\n",
    "    for step in app.stream(\n",
    "        None,\n",
    "        config,\n",
    "        stream_mode=\"updates\"    # 각 단계의 모든 세부 업데이트를 실시간으로 제공\n",
    "    ):\n",
    "        print(step)\n",
    "else:\n",
    "    # 사용자가 'no'를 입력한 경우, 실행 중단\n",
    "    print(\"사용자가 작업을 취소했습니다.\")"
   ]
  },
  {
   "cell_type": "markdown",
   "id": "2ac192a9",
   "metadata": {
    "id": "eLZMCQkyNBTt"
   },
   "source": [
    "##  **에이전트(Agents)**\n",
    "\n",
    "**에이전트(Agents)**는 **LLM의 추론(reasoning) 능력**을 활용하여 실행 중에 결정을 내립니다.  \n",
    "에이전트를 사용하면 **쿼리 생성 및 실행 과정의 추가적인 판단(discretion)** 을 LLM에 맡길 수 있습니다.  \n",
    "\n",
    "**체인(Chain)** 보다 예측 가능성이 떨어질 수 있지만, 에이전트에는 몇 가지 장점이 있습니다:\n",
    "\n",
    "- 사용자 질문에 답하기 위해 **필요한 만큼 데이터베이스를 여러 번 쿼리**할 수 있습니다.  \n",
    "- 생성된 쿼리를 실행하다 오류가 발생하면, **오류(traceback)를 포착**하여 올바르게 **재생성(regenerate)** 할 수 있습니다.  \n",
    "- 데이터베이스의 **스키마(schema)** 와 **내용(content)** 모두를 기반으로 질문에 답할 수 있습니다 (예: 특정 테이블 설명).  \n",
    "\n",
    "---\n",
    "\n",
    "### **SQL 에이전트 구성하기**\n",
    "\n",
    "아래에서는 최소한의 **SQL 에이전트(SQL Agent)** 를 구성합니다.  \n",
    "이를 위해 LangChain의 [**SQLDatabaseToolkit**](https://python.langchain.com/api_reference/community/agent_toolkits/langchain_community.agent_toolkits.sql.toolkit.SQLDatabaseToolkit.html)을 사용하여 도구(tool) 세트를 제공합니다.  \n",
    "\n",
    "**LangGraph의 [사전 구축된 ReAct 에이전트 생성자(pre-built ReAct agent constructor)](https://langchain-ai.github.io/langgraph/how-tos/#langgraph.prebuilt.chat_agent_executor.create_react_agent)** 를 사용하면 **한 줄의 코드**로 이를 수행할 수 있습니다.\n",
    "\n",
    "---\n",
    "\n",
    "`SQLDatabaseToolkit`에는 다음과 같은 도구들이 포함됩니다:\n",
    "\n",
    "- **쿼리 생성 및 실행(Create and execute queries)**  \n",
    "- **쿼리 구문 검증(Check query syntax)**  \n",
    "- **테이블 설명 가져오기(Retrieve table descriptions)**  \n",
    "- **기타 여러 기능(... and more)**  "
   ]
  },
  {
   "cell_type": "code",
   "execution_count": 19,
   "id": "efe6ca11",
   "metadata": {},
   "outputs": [
    {
     "data": {
      "text/plain": [
       "[QuerySQLDatabaseTool(description=\"Input to this tool is a detailed and correct SQL query, output is a result from the database. If the query is not correct, an error message will be returned. If an error is returned, rewrite the query, check the query, and try again. If you encounter an issue with Unknown column 'xxxx' in 'field list', use sql_db_schema to query the correct table fields.\", db=<langchain_community.utilities.sql_database.SQLDatabase object at 0x00000236B3712400>),\n",
       " InfoSQLDatabaseTool(description='Input to this tool is a comma-separated list of tables, output is the schema and sample rows for those tables. Be sure that the tables actually exist by calling sql_db_list_tables first! Example Input: table1, table2, table3', db=<langchain_community.utilities.sql_database.SQLDatabase object at 0x00000236B3712400>),\n",
       " ListSQLDatabaseTool(db=<langchain_community.utilities.sql_database.SQLDatabase object at 0x00000236B3712400>),\n",
       " QuerySQLCheckerTool(description='Use this tool to double check if your query is correct before executing it. Always use this tool before executing a query with sql_db_query!', db=<langchain_community.utilities.sql_database.SQLDatabase object at 0x00000236B3712400>, llm=ChatOpenAI(client=<openai.resources.chat.completions.Completions object at 0x00000236B670E0A0>, async_client=<openai.resources.chat.completions.AsyncCompletions object at 0x00000236B671C250>, root_client=<openai.OpenAI object at 0x00000236B651AE20>, root_async_client=<openai.AsyncOpenAI object at 0x00000236B670E100>, model_name='gpt-4o', temperature=0.0, model_kwargs={}, openai_api_key=SecretStr('**********')), llm_chain=LLMChain(verbose=False, prompt=PromptTemplate(input_variables=['dialect', 'query'], input_types={}, partial_variables={}, template='\\n{query}\\nDouble check the {dialect} query above for common mistakes, including:\\n- Using NOT IN with NULL values\\n- Using UNION when UNION ALL should have been used\\n- Using BETWEEN for exclusive ranges\\n- Data type mismatch in predicates\\n- Properly quoting identifiers\\n- Using the correct number of arguments for functions\\n- Casting to the correct data type\\n- Using the proper columns for joins\\n\\nIf there are any of the above mistakes, rewrite the query. If there are no mistakes, just reproduce the original query.\\n\\nOutput the final SQL query only.\\n\\nSQL Query: '), llm=ChatOpenAI(client=<openai.resources.chat.completions.Completions object at 0x00000236B670E0A0>, async_client=<openai.resources.chat.completions.AsyncCompletions object at 0x00000236B671C250>, root_client=<openai.OpenAI object at 0x00000236B651AE20>, root_async_client=<openai.AsyncOpenAI object at 0x00000236B670E100>, model_name='gpt-4o', temperature=0.0, model_kwargs={}, openai_api_key=SecretStr('**********')), output_parser=StrOutputParser(), llm_kwargs={}))]"
      ]
     },
     "execution_count": 19,
     "metadata": {},
     "output_type": "execute_result"
    }
   ],
   "source": [
    "from langchain_community.agent_toolkits import SQLDatabaseToolkit\n",
    "\n",
    "# SQLDatabaseToolkit은 LLM과 데이터베이스(SQL)를 연결하기 위한 도구 세트\n",
    "toolkit = SQLDatabaseToolkit(db=db, llm=llm)\n",
    "\n",
    "# SQLDatabaseToolkit에서 사용할 수 있는 모든 도구를 가져옵니다.\n",
    "tools = toolkit.get_tools()\n",
    "\n",
    "# 도구 목록 출력\n",
    "tools"
   ]
  },
  {
   "cell_type": "code",
   "execution_count": 20,
   "id": "b7e7f90f",
   "metadata": {},
   "outputs": [
    {
     "data": {
      "text/plain": [
       "['sql_db_query', 'sql_db_schema', 'sql_db_list_tables', 'sql_db_query_checker']"
      ]
     },
     "execution_count": 20,
     "metadata": {},
     "output_type": "execute_result"
    }
   ],
   "source": [
    "tool_names = [tool.name for tool in tools]\n",
    "tool_names"
   ]
  },
  {
   "cell_type": "markdown",
   "id": "b22b173b",
   "metadata": {
    "id": "ZiKNUNjxNBTu"
   },
   "source": [
    "### **시스템 프롬프트 (System Prompt)**  \n",
    "\n",
    "에이전트가 올바르게 동작하도록 하기 위해 **시스템 프롬프트(System Prompt)** 를 로드할 필요가 있습니다.   \n",
    "이를 위해 [**Prompt Hub**](https://smith.langchain.com/hub)에서 sql 생성 **시스템 프롬프트** 를 가져올 것입니다.  \n",
    "이 프롬프트에는 **에이전트의 행동 지침(instructions for how to behave)** 이 포함됩니다."
   ]
  },
  {
   "cell_type": "code",
   "execution_count": 21,
   "id": "7358d2a6",
   "metadata": {},
   "outputs": [
    {
     "name": "stdout",
     "output_type": "stream",
     "text": [
      "================================\u001b[1m System Message \u001b[0m================================\n",
      "\n",
      "당신은 SQL 전문가입니다. 주어진 질문을 SQL 쿼리로 변환하는 작업을 수행합니다.\n",
      "    다음 정보를 참고하여 SQL 쿼리를 작성하세요:\n",
      "    \n",
      "    방언(dialect): \u001b[33;1m\u001b[1;3m{dialect}\u001b[0m\n",
      "    테이블 정보: \u001b[33;1m\u001b[1;3m{table_info}\u001b[0m\n",
      "    최대 결과 수: \u001b[33;1m\u001b[1;3m{top_k}\u001b[0m\n",
      "    \n",
      "    쿼리는 문법적으로 정확해야 하며, 질문에 대한 정확한 답을 제공해야 합니다.\n"
     ]
    }
   ],
   "source": [
    "from langchain import hub\n",
    "\n",
    "#  SQL 에이전트를 위한 시스템 프롬프트 템플릿\n",
    "# 이 템플릿에는 SQL 에이전트가 어떻게 행동해야 하는지에 대한 지침이 포함되어 있습니다.\n",
    "# prompt_template = hub.pull(\"langchain-ai/sql-agent-system-prompt\")\n",
    "# prompt_template = hub.pull(\"oyj-1/sql-agent-system-prompt-korean\")\n",
    "prompt_template = hub.pull(\"oyj-1/sql-creation-1\")\n",
    "\n",
    "assert len(prompt_template.messages) == 1\n",
    "\n",
    "# 프롬프트 내용 출력\n",
    "prompt_template.messages[0].pretty_print()"
   ]
  },
  {
   "cell_type": "markdown",
   "id": "c32c391f",
   "metadata": {
    "id": "uhVExio9NBTy"
   },
   "source": [
    "프롬프트에서 강조된 **매개변수(parameters)** 를 채워보겠습니다."
   ]
  },
  {
   "cell_type": "code",
   "execution_count": 28,
   "id": "5eff453b",
   "metadata": {},
   "outputs": [],
   "source": [
    "system_message = prompt_template.format(dialect=\"SQLite\", table_info=db.get_table_info(), top_k=5)\n",
    "#system_message"
   ]
  },
  {
   "cell_type": "markdown",
   "id": "7cc8d7eb",
   "metadata": {
    "id": "Zz8Pf7u0NBTy"
   },
   "source": [
    "### **에이전트 초기화 (Initializing Agent)**  \n",
    "\n",
    "사전 구축된 **LangGraph** 에이전트를 사용하여 **에이전트(agent)** 를 생성합니다."
   ]
  },
  {
   "cell_type": "code",
   "execution_count": 23,
   "id": "55db0d3c",
   "metadata": {},
   "outputs": [],
   "source": [
    "from langchain_core.messages import HumanMessage\n",
    "from langgraph.prebuilt import create_react_agent\n",
    "\n",
    "# ReAct(Reasoning + Acting) 패턴을 사용하여 에이전트 생성\n",
    "agent_executor = create_react_agent(\n",
    "    llm,          # LLM 객체\n",
    "    tools,        # SQL 쿼리 실행, 스키마 확인 등의 작업을 수행할 수 있는 도구 목록\n",
    "    state_modifier=system_message  # 시스템 메시지로 초기 상태 설정\n",
    ")"
   ]
  },
  {
   "cell_type": "code",
   "execution_count": 24,
   "id": "97c04858-6ea6-40e3-9c31-eb8c1765f721",
   "metadata": {},
   "outputs": [
    {
     "name": "stdout",
     "output_type": "stream",
     "text": [
      "================================\u001b[1m Human Message \u001b[0m=================================\n",
      "\n",
      "직원이 몇명인가요?\n",
      "==================================\u001b[1m Ai Message \u001b[0m==================================\n",
      "Tool Calls:\n",
      "  sql_db_query_checker (call_nMHEFPLmxW79kFIqdjQjQqVi)\n",
      " Call ID: call_nMHEFPLmxW79kFIqdjQjQqVi\n",
      "  Args:\n",
      "    query: SELECT COUNT(*) FROM Employee;\n",
      "=================================\u001b[1m Tool Message \u001b[0m=================================\n",
      "Name: sql_db_query_checker\n",
      "\n",
      "```sql\n",
      "SELECT COUNT(*) FROM Employee;\n",
      "```\n",
      "==================================\u001b[1m Ai Message \u001b[0m==================================\n",
      "Tool Calls:\n",
      "  sql_db_query (call_J5HfJZYv13eaOpv94cYhJMUd)\n",
      " Call ID: call_J5HfJZYv13eaOpv94cYhJMUd\n",
      "  Args:\n",
      "    query: SELECT COUNT(*) FROM Employee;\n",
      "=================================\u001b[1m Tool Message \u001b[0m=================================\n",
      "Name: sql_db_query\n",
      "\n",
      "[(8,)]\n",
      "==================================\u001b[1m Ai Message \u001b[0m==================================\n",
      "\n",
      "직원은 총 8명입니다.\n"
     ]
    }
   ],
   "source": [
    "question = \"직원이 몇명인가요?\"\n",
    "\n",
    "for step in agent_executor.stream(\n",
    "    {'messages': [{'role': 'user', 'content': question}]},\n",
    "    stream_mode='values'   #각 단계의 최종 결과 값만 제공\n",
    "):\n",
    "    step['messages'][-1].pretty_print()"
   ]
  },
  {
   "cell_type": "code",
   "execution_count": 25,
   "id": "fdb37f97",
   "metadata": {},
   "outputs": [
    {
     "name": "stdout",
     "output_type": "stream",
     "text": [
      "================================\u001b[1m Human Message \u001b[0m=================================\n",
      "\n",
      "어느 나라의 고객이 가장 많은 금액을 지출했나요?\n",
      "==================================\u001b[1m Ai Message \u001b[0m==================================\n",
      "Tool Calls:\n",
      "  sql_db_query_checker (call_JqUUrpgmgGPgN5ekQgL59DFQ)\n",
      " Call ID: call_JqUUrpgmgGPgN5ekQgL59DFQ\n",
      "  Args:\n",
      "    query: SELECT c.Country, SUM(i.Total) as TotalSpent FROM Customer c JOIN Invoice i ON c.CustomerId = i.CustomerId GROUP BY c.Country ORDER BY TotalSpent DESC LIMIT 1;\n",
      "  sql_db_list_tables (call_a8dwjZCVyf7t1ErgZxTvSrsT)\n",
      " Call ID: call_a8dwjZCVyf7t1ErgZxTvSrsT\n",
      "  Args:\n",
      "=================================\u001b[1m Tool Message \u001b[0m=================================\n",
      "Name: sql_db_list_tables\n",
      "\n",
      "Album, Artist, Customer, Employee, Genre, Invoice, InvoiceLine, MediaType, Playlist, PlaylistTrack, Track\n",
      "==================================\u001b[1m Ai Message \u001b[0m==================================\n",
      "Tool Calls:\n",
      "  sql_db_query (call_rCGks7tHx5KrgDUXMRe8cZzs)\n",
      " Call ID: call_rCGks7tHx5KrgDUXMRe8cZzs\n",
      "  Args:\n",
      "    query: SELECT c.Country, SUM(i.Total) as TotalSpent FROM Customer c JOIN Invoice i ON c.CustomerId = i.CustomerId GROUP BY c.Country ORDER BY TotalSpent DESC LIMIT 1;\n",
      "=================================\u001b[1m Tool Message \u001b[0m=================================\n",
      "Name: sql_db_query\n",
      "\n",
      "[('USA', 523.06)]\n",
      "==================================\u001b[1m Ai Message \u001b[0m==================================\n",
      "\n",
      "가장 많은 금액을 지출한 고객은 미국(USA) 출신입니다.\n"
     ]
    }
   ],
   "source": [
    "question = \"어느 나라의 고객이 가장 많은 금액을 지출했나요?\"\n",
    "\n",
    "for step in agent_executor.stream(\n",
    "    {'messages': [{'role': 'user', 'content': question}]},\n",
    "    stream_mode='values'   #각 단계의 최종 결과 값만 제공\n",
    "):\n",
    "    step['messages'][-1].pretty_print()"
   ]
  },
  {
   "cell_type": "code",
   "execution_count": 26,
   "id": "d064689b",
   "metadata": {},
   "outputs": [
    {
     "name": "stdout",
     "output_type": "stream",
     "text": [
      "검증용 SQL 쿼리 결과: [('USA', 523.06)]\n"
     ]
    }
   ],
   "source": [
    "# SQL 쿼리로 검증\n",
    "validation_query = \"\"\"\n",
    "SELECT BillingCountry, SUM(Total) AS TotalSpent\n",
    "FROM Invoice\n",
    "GROUP BY BillingCountry\n",
    "ORDER BY TotalSpent DESC\n",
    "LIMIT 1;\n",
    "\"\"\"\n",
    "\n",
    "validation_result = db.run(validation_query)\n",
    "print(\"검증용 SQL 쿼리 결과:\", validation_result)"
   ]
  },
  {
   "cell_type": "markdown",
   "id": "3a0a2d7d",
   "metadata": {
    "id": "4V5MksHnNBTy"
   },
   "source": [
    "[**LangSmith 추적(Trace)**](https://smith.langchain.com/o/351c6cd9-1396-5c74-9478-1ee6a22a6433/projects/p/acec9d4d-4978-4597-adff-789cd42e200f?timeModel=%7B%22duration%22%3A%227d%22%7D&peek=b67c9ebf-e953-4d79-9b34-c0dbbeb921c4)을 사용하여 이러한 단계와 관련 메타데이터를 시각화할 수도 있습니다.\n",
    "\n",
    "에이전트는 필요한 정보를 얻을 때까지 **여러 번의 쿼리**를 실행한다는 점에 주목하세요:  \n",
    "\n",
    "1. 사용 가능한 테이블 목록을 나열합니다.  \n",
    "2. 세 개의 테이블에 대한 스키마를 검색합니다.  \n",
    "3. 여러 테이블을 **JOIN 연산**을 통해 쿼리합니다.  \n",
    "\n",
    "에이전트는 마지막 쿼리의 결과를 사용해 **원래 질문에 대한 답변을 생성**할 수 있습니다.\n",
    "\n",
    "에이전트는 이와 유사하게 **정성적 질문(qualitative questions)** 도 처리할 수 있습니다."
   ]
  },
  {
   "cell_type": "code",
   "execution_count": 27,
   "id": "94def1a7",
   "metadata": {},
   "outputs": [
    {
     "name": "stdout",
     "output_type": "stream",
     "text": [
      "================================\u001b[1m Human Message \u001b[0m=================================\n",
      "\n",
      "`playlisttrack` 테이블을 설명하세요. 한국어로 설명하세요.**\n",
      "==================================\u001b[1m Ai Message \u001b[0m==================================\n",
      "Tool Calls:\n",
      "  sql_db_schema (call_I2oZ6rqseYONQIZXMCnWkLUI)\n",
      " Call ID: call_I2oZ6rqseYONQIZXMCnWkLUI\n",
      "  Args:\n",
      "    table_names: PlaylistTrack\n",
      "=================================\u001b[1m Tool Message \u001b[0m=================================\n",
      "Name: sql_db_schema\n",
      "\n",
      "\n",
      "CREATE TABLE \"PlaylistTrack\" (\n",
      "\t\"PlaylistId\" INTEGER NOT NULL, \n",
      "\t\"TrackId\" INTEGER NOT NULL, \n",
      "\tPRIMARY KEY (\"PlaylistId\", \"TrackId\"), \n",
      "\tFOREIGN KEY(\"TrackId\") REFERENCES \"Track\" (\"TrackId\"), \n",
      "\tFOREIGN KEY(\"PlaylistId\") REFERENCES \"Playlist\" (\"PlaylistId\")\n",
      ")\n",
      "\n",
      "/*\n",
      "3 rows from PlaylistTrack table:\n",
      "PlaylistId\tTrackId\n",
      "1\t3402\n",
      "1\t3389\n",
      "1\t3390\n",
      "*/\n",
      "==================================\u001b[1m Ai Message \u001b[0m==================================\n",
      "\n",
      "`PlaylistTrack` 테이블은 각 플레이리스트에 포함된 트랙을 나타내는 관계 테이블입니다. 이 테이블은 두 개의 주요 열로 구성되어 있습니다:\n",
      "\n",
      "- `PlaylistId`: 플레이리스트의 고유 식별자입니다. 이 열은 `Playlist` 테이블의 `PlaylistId`를 참조하는 외래 키입니다.\n",
      "- `TrackId`: 트랙의 고유 식별자입니다. 이 열은 `Track` 테이블의 `TrackId`를 참조하는 외래 키입니다.\n",
      "\n",
      "이 테이블은 복합 기본 키로 `PlaylistId`와 `TrackId`를 사용하여, 각 플레이리스트와 트랙의 조합이 고유하도록 보장합니다. 이를 통해 하나의 플레이리스트에 여러 트랙을 포함시킬 수 있으며, 하나의 트랙이 여러 플레이리스트에 포함될 수 있습니다.\n"
     ]
    }
   ],
   "source": [
    "question = \"`playlisttrack` 테이블을 설명하세요. 한국어로 설명하세요.**\"\n",
    "\n",
    "for step in agent_executor.stream(\n",
    "    {\"messages\": [{\"role\": \"user\", \"content\": question}]},\n",
    "    stream_mode=\"values\",\n",
    "):\n",
    "    step[\"messages\"][-1].pretty_print()"
   ]
  },
  {
   "cell_type": "code",
   "execution_count": null,
   "id": "8b146d09",
   "metadata": {},
   "outputs": [],
   "source": []
  }
 ],
 "metadata": {
  "colab": {
   "provenance": []
  },
  "kernelspec": {
   "display_name": "Python 3 (ipykernel)",
   "language": "python",
   "name": "python3"
  },
  "language_info": {
   "codemirror_mode": {
    "name": "ipython",
    "version": 3
   },
   "file_extension": ".py",
   "mimetype": "text/x-python",
   "name": "python",
   "nbconvert_exporter": "python",
   "pygments_lexer": "ipython3",
   "version": "3.9.21"
  }
 },
 "nbformat": 4,
 "nbformat_minor": 5
}
