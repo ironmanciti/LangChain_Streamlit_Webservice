{
 "cells": [
  {
   "cell_type": "markdown",
   "id": "cf13f702",
   "metadata": {
    "id": "cf13f702"
   },
   "source": [
    "# **텍스트 요약**\n",
    "\n",
    "**내장 체인(built-in chains)** 과 [LangGraph](https://langchain-ai.github.io/langgraph/)를 사용하여 **텍스트 요약**을 시연합니다.  \n",
    "\n",
    "PDF, Notion 페이지, 고객 질문 등 **여러 문서**를 가지고 있고 그 내용을 **요약** 하고 싶다고 가정해 봅시다.\n",
    "\n",
    "**대규모 언어 모델(LLM)** 은 텍스트를 이해하고 요약하는 데 뛰어난 능력을 가지고 있어 이 작업에 매우 적합합니다.\n",
    "\n",
    "**검색 증강 생성(Retrieval-Augmented Generation, RAG)** 측면에서 볼 때, 텍스트를 요약하는 것은 많은 수의 검색된 문서에서 **핵심 정보를 추출**하여 LLM에 컨텍스트를 제공하는 데 도움을 줄 수 있습니다.\n",
    "\n",
    " **여러 문서의 내용을 LLM을 사용하여 요약하는 방법**을 단계별로 살펴보겠습니다."
   ]
  },
  {
   "cell_type": "markdown",
   "id": "8e233997",
   "metadata": {
    "id": "8e233997"
   },
   "source": [
    "![Image description](https://github.com/langchain-ai/langchain/blob/master/docs/static/img/summarization_use_case_1.png?raw=1)"
   ]
  },
  {
   "cell_type": "markdown",
   "id": "cc8c5f87-3239-44e1-8772-a97cb6138cc5",
   "metadata": {
    "id": "cc8c5f87-3239-44e1-8772-a97cb6138cc5"
   },
   "source": [
    "여기에서 다룰 개념은 다음과 같습니다:\n",
    "\n",
    "- **언어 모델**의 사용.\n",
    "\n",
    "- **문서 로더**의 사용, 특히 [**WebBaseLoader**](https://python.langchain.com/api_reference/community/document_loaders/langchain_community.document_loaders.web_base.WebBaseLoader.html)를 사용해 HTML 웹페이지의 콘텐츠를 로드하는 방법.\n",
    "\n",
    "- **문서를 요약하거나 결합하는 두 가지 방법:**\n",
    "   1. **Stuff**: 문서를 단순히 프롬프트에 연결합니다.  \n",
    "   2. **Map-Reduce**: 더 많은 문서 집합에 사용됩니다. 문서를 배치로 나눈 후 각 배치를 요약하고, 마지막으로 요약된 결과를 다시 요약합니다.  \n"
   ]
  },
  {
   "cell_type": "markdown",
   "id": "4715b4ff",
   "metadata": {
    "id": "4715b4ff"
   },
   "source": [
    "**summarizer**를 구축할 때 중심이 되는 질문은 **어떻게 문서를 LLM의 컨텍스트 윈도우에 전달할 것인가?** 입니다. 이 문제를 해결하기 위한 두 가지 일반적인 접근 방식이 있습니다:\n",
    "\n",
    "1. **`Stuff`:**  \n",
    "   - 모든 문서를 **하나의 프롬프트에 \"채워 넣는\"** 가장 간단한 방법입니다.  \n",
    "   - 이 방법은 단순하지만 대규모 문서에는 적합하지 않을 수 있습니다.  \n",
    "<p></p>\n",
    "\n",
    "2. **`Map-reduce`:**  \n",
    "   - 먼저 각 문서를 개별적으로 요약하는 **\"Map\" 단계**를 거칩니다.  \n",
    "   - 이후, 요약된 결과를 결합하여 최종 요약을 만드는 **\"Reduce\" 단계**를  수행합니다.  \n",
    "<p></p>\n",
    "\n",
    "**`Map-reduce`** 는 특히 **부분 문서(sub-document)** 의 이해가 **이전 맥락에 의존하지 않는 경우** 효과적입니다. 예를 들어, **여러 개의 짧은 문서 모음** 을 요약할 때 유용합니다.  \n",
    "\n",
    "반면, 소설이나 연속된 흐름이 중요한 긴 텍스트를 요약할 때는 **반복적 개선(iterative refinement)** 접근 방식이 더 효과적일 수 있습니다."
   ]
  },
  {
   "cell_type": "markdown",
   "id": "08ec66bc",
   "metadata": {
    "id": "08ec66bc"
   },
   "source": [
    "![Image description](https://github.com/langchain-ai/langchain/blob/master/docs/static/img/summarization_use_case_2.png?raw=1)"
   ]
  },
  {
   "cell_type": "code",
   "execution_count": 1,
   "id": "5b3dd46f",
   "metadata": {},
   "outputs": [],
   "source": [
    "# !pip install -qU \\\n",
    "# python-dotenv \\\n",
    "# langchain \\\n",
    "# langchain-community \\\n",
    "# openai \\\n",
    "# anthropic \\\n",
    "# langchain-openai \\\n",
    "# langchain-anthropic \\\n",
    "# langchain-google-genai\n",
    "# !pip install --upgrade --quiet tiktoken langchain langgraph beautifulsoup4 langchain-community"
   ]
  },
  {
   "cell_type": "code",
   "execution_count": 1,
   "id": "d8546394",
   "metadata": {},
   "outputs": [
    {
     "data": {
      "text/plain": [
       "True"
      ]
     },
     "execution_count": 1,
     "metadata": {},
     "output_type": "execute_result"
    }
   ],
   "source": [
    "# env 파일에서 API 키를 로드\n",
    "from dotenv import load_dotenv\n",
    "load_dotenv()"
   ]
  },
  {
   "cell_type": "code",
   "execution_count": 2,
   "id": "3702e6cd",
   "metadata": {},
   "outputs": [],
   "source": [
    "import os\n",
    "os.environ[\"LANGCHAIN_TRACING_V2\"] = \"true\""
   ]
  },
  {
   "cell_type": "markdown",
   "id": "21541329-f883-42ca-bc94-ab9793951dfa",
   "metadata": {
    "id": "21541329-f883-42ca-bc94-ab9793951dfa"
   },
   "source": [
    "먼저 문서를 불러옵니다. 블로그 게시글을 불러오기 위해 [**WebBaseLoader**](https://python.langchain.com/api_reference/community/document_loaders/langchain_community.document_loaders.web_base.WebBaseLoader.html)를 사용할 것입니다."
   ]
  },
  {
   "cell_type": "code",
   "execution_count": 16,
   "id": "9c8cf079",
   "metadata": {},
   "outputs": [
    {
     "data": {
      "text/plain": [
       "43904"
      ]
     },
     "execution_count": 16,
     "metadata": {},
     "output_type": "execute_result"
    }
   ],
   "source": [
    "from langchain_community.document_loaders import WebBaseLoader\n",
    "\n",
    "#  WebBaseLoader 객체 생성\n",
    "loader = WebBaseLoader(\"https://lilianweng.github.io/posts/2023-06-23-agent/\")\n",
    "\n",
    "# load(): 지정된 URL의 내용을 가져와 LangChain 문서 형식으로 변환\n",
    "docs = loader.load()\n",
    "\n",
    "len(docs[0].page_content)"
   ]
  },
  {
   "cell_type": "code",
   "execution_count": 4,
   "id": "937556b8",
   "metadata": {},
   "outputs": [],
   "source": [
    "from langchain_openai import ChatOpenAI\n",
    "\n",
    "llm = ChatOpenAI(model=\"gpt-4o-mini\", temperature=0)"
   ]
  },
  {
   "cell_type": "markdown",
   "id": "615b36e1",
   "metadata": {
    "id": "615b36e1"
   },
   "source": [
    "###  **Stuff: 단일 LLM 호출로 요약하기**\n",
    "\n",
    "[**`create_stuff_documents_chain`**](https://python.langchain.com/api_reference/langchain/chains/langchain.chains.combine_documents.stuff.create_stuff_documents_chain.html)을 사용할 수 있습니다. 특히  **큰 컨텍스트 윈도우(Context Window)** 를 지원하는 모델을 사용할 때 유용합니다:\n",
    "\n",
    "- **128k 토큰 OpenAI `gpt-4o`**  \n",
    "- **200k 토큰 Anthropic `claude-3-5-sonnet-20240620`**\n",
    "\n",
    "이 체인은 문서 목록을 가져와 **모든 문서를 하나의 프롬프트로 삽입**한 뒤, 그 프롬프트를 **LLM에 전달**합니다."
   ]
  },
  {
   "cell_type": "code",
   "execution_count": 17,
   "id": "43e507fa",
   "metadata": {},
   "outputs": [
    {
     "name": "stdout",
     "output_type": "stream",
     "text": [
      "이 글에서는 LLM(대형 언어 모델)을 기반으로 한 자율 에이전트 시스템에 대해 설명하고 있습니다. LLM은 에이전트의 두뇌 역할을 하며, 주요 구성 요소로는 계획, 기억, 도구 사용이 있습니다. \n",
      "\n",
      "1. **계획**: 에이전트는 복잡한 작업을 더 작은 하위 목표로 분해하고, 과거 행동에 대한 자기 반성을 통해 학습하여 결과의 질을 향상시킵니다.\n",
      "2. **기억**: 단기 기억과 장기 기억을 통해 정보를 저장하고 검색할 수 있으며, 외부 벡터 저장소를 활용하여 무한한 정보를 유지할 수 있습니다.\n",
      "3. **도구 사용**: 에이전트는 외부 API를 호출하여 모델의 한계를 넘어서는 정보를 얻고, 다양한 작업을 수행할 수 있습니다.\n",
      "\n",
      "이 시스템은 여러 도전 과제에 직면해 있으며, 특히 제한된 맥락 길이, 장기 계획의 어려움, 자연어 인터페이스의 신뢰성 문제 등이 있습니다. 다양한 사례 연구와 개념 증명 예시를 통해 LLM 기반 에이전트의 가능성과 한계를 탐구하고 있습니다.\n"
     ]
    }
   ],
   "source": [
    "from langchain.chains.combine_documents import create_stuff_documents_chain\n",
    "from langchain.chains.llm import LLMChain\n",
    "from langchain_core.prompts import ChatPromptTemplate\n",
    "\n",
    "#  프롬프트 정의\n",
    "prompt = ChatPromptTemplate(\n",
    "    [(\"system\", \"다음을 간결하게 요약하세요, 한국어로 요약하세요.\\\\n\\\\n{context}\")]\n",
    ")\n",
    "\n",
    "# 체인 인스턴스 생성\n",
    "chain = create_stuff_documents_chain(llm, prompt)\n",
    "     \n",
    "# 체인 실행 (invoke)\n",
    "result = chain.invoke({\"context\": docs})\n",
    "print(result)"
   ]
  },
  {
   "cell_type": "markdown",
   "id": "02d5a634-203c-4e43-ac55-4e502be095d3",
   "metadata": {
    "id": "02d5a634-203c-4e43-ac55-4e502be095d3"
   },
   "source": [
    "###  **스트리밍**\n",
    "\n",
    "결과를 **토큰 단위로 스트리밍**할 수도 있습니다."
   ]
  },
  {
   "cell_type": "code",
   "execution_count": 14,
   "id": "14a739c4",
   "metadata": {},
   "outputs": [
    {
     "name": "stdout",
     "output_type": "stream",
     "text": [
      "|이| 글|에서는| L|LM|(|대|형| 언|어| 모델|)을| 기반|으로| 한| 자|율| 에|이|전|트| 시스템|에| 대해| 설명|하고| 있습니다|.| L|LM|은| 에|이|전|트|의| 두|뇌| 역할|을| 하|며|,| 주요| 구성| 요소|로|는| 계획|,| 기억|,| 도|구| 사용|이| 있습니다|.| \n",
      "\n",
      "계|획|**|:| 에|이|전|트|는| 복|잡|한| 작업|을| 더| 작은| 하|위| 목표|로| 분|해|하고|,| 과|거| 행동|에| 대한| 자기| 반|성을| 통해| 학|습|하여| 결과|의| 질|을| 향|상|시|킵|니다|.\n",
      "기| 기억|을| 통해| 정보를| 저장|하고| 검색|할| 수| 있으며|,| 외|부| 벡|터| 저장|소|를| 활용|하여| 무|한|한| 정보를| 유지|할| 수| 있습니다|.\n",
      "부| API|를| 호출|하여| 모델|의| 한|계를| 넘어|서는| 정보를| 얻|고|,| 다양한| 작업|을| 수행|할| 수| 있습니다|.\n",
      "\n",
      " 길|이|,| 장|기| 계획|의| 어려|움|,| 자연|어| 인터|페|이스|의| 신|뢰|성| 문제| 등이| 있습니다|.| 다양한| 사례| 연구|와| 개|념| 증|명| 예|시|를| 통해| L|LM| 기반| 에|이|전|트|의| 가능|성과| 한|계를| 탐|구|하고| 있습니다|.||"
     ]
    }
   ],
   "source": [
    "# 체인 실행 및 스트리밍\n",
    "for token in chain.stream(\n",
    "    {\"context\": docs}\n",
    "):\n",
    "    print(token, end=\"|\")"
   ]
  },
  {
   "cell_type": "markdown",
   "id": "ad6cabee",
   "metadata": {
    "id": "ad6cabee"
   },
   "source": [
    "--------------------\n",
    "### **Map-Reduce: 병렬 처리를 통한 긴 텍스트 요약**\n",
    "\n",
    "**Map-Reduce 접근법**에서는 먼저 각 문서를 **LLM을 사용하여 개별 요약(map 단계)**한 후, 이러한 요약들을 **하나의 글로벌 요약으로 통합(reduce 단계)**합니다.\n",
    "\n",
    "**Map 단계**는 일반적으로 입력 문서에 대해 **병렬 처리**됩니다.\n",
    "\n",
    "**LangGraph**는 `langchain-core`를 기반으로 구축되었으며, [**Map-Reduce**](https://langchain-ai.github.io/langgraph/how-tos/map-reduce/) 워크플로우를 지원하므로 이 문제를 해결하기에 매우 적합합니다:\n",
    "\n",
    "- **LangGraph**는 각 단계(예: 연속적인 요약)가 **스트리밍될 수 있도록 지원**하여 실행을 더 세밀하게 제어할 수 있습니다.  \n",
    "- **LangGraph**의 [**체크포인트(checkpointing)**](https://langchain-ai.github.io/langgraph/how-tos/persistence/) 기능은 오류 복구, 인간 검토(human-in-the-loop) 워크플로우 확장, 대화형 애플리케이션 통합을 더욱 쉽게 지원합니다.  \n",
    "- **LangGraph**는 간단하고 유연하게 수정 및 확장할 수 있습니다. 아래에서 자세히 확인해보겠습니다.\n",
    "\n",
    "---\n",
    "\n",
    "### **Map 단계**\n",
    "\n",
    "먼저 **Map 단계**에 사용할 **프롬프트**를 정의해 보겠습니다.  \n",
    "이 단계에서는 `stuff` 접근법과 동일한 요약 프롬프트를 사용할 수 있습니다."
   ]
  },
  {
   "cell_type": "code",
   "execution_count": 18,
   "id": "ab9ab40b",
   "metadata": {},
   "outputs": [],
   "source": [
    "from langchain_core.prompts import ChatPromptTemplate\n",
    "\n",
    "# Map 단계에 사용할 프롬프트 정의\n",
    "map_prompt = ChatPromptTemplate.from_messages(\n",
    "    [(\"system\", \"다음을 간결하게 요약하세요. 한국어로 요약하세요.\\\\n\\\\n{context}\")]\n",
    ")"
   ]
  },
  {
   "cell_type": "markdown",
   "id": "bee3c331",
   "metadata": {
    "id": "bee3c331"
   },
   "source": [
    "### **Reduce**\n",
    "\n",
    "문서 매핑 결과를 받아 **하나의 출력으로 통합하는 프롬프트**를 정의합니다."
   ]
  },
  {
   "cell_type": "code",
   "execution_count": 19,
   "id": "4b15b6a3",
   "metadata": {},
   "outputs": [],
   "source": [
    "# Reduce 프롬프트 템플릿 정의\n",
    "reduce_template = \"\"\"\n",
    "다음은 요약된 내용들의 모음입니다:\n",
    "{docs}\n",
    "이것들을 분석하여 주요 주제를 담은 **최종 통합 요약**으로 압축하세요.\n",
    "\"\"\"\n",
    "\n",
    "reduce_prompt = ChatPromptTemplate(\n",
    "    [(\"human\", reduce_template)]\n",
    ")"
   ]
  },
  {
   "cell_type": "markdown",
   "id": "3d7df564-415a-49e2-80b6-743446b40be5",
   "metadata": {
    "id": "3d7df564-415a-49e2-80b6-743446b40be5"
   },
   "source": [
    "### **LangGraph를 통한 오케스트레이션**\n",
    "\n",
    "아래에서는 문서 목록에 대해 요약(Map) 단계를 실행한 다음, 앞서 정의한 프롬프트를 사용해 결과를 통합(Reduce)하는 간단한 애플리케이션을 구현합니다.\n",
    "\n",
    "**Map-Reduce 흐름**은 LLM의 **컨텍스트 윈도우(context window)** 보다 텍스트가 긴 경우 특히 유용합니다. 긴 텍스트의 경우, Reduce 단계에서 요약해야 할 컨텍스트가 **모델의 컨텍스트 윈도우 크기를 초과하지 않도록** 관리하는 메커니즘이 필요합니다.  \n",
    "\n",
    "여기서는 요약을 **재귀적으로 \"압축(collapsing)\"** 하는 방식을 구현합니다:  \n",
    "- 입력 텍스트는 **토큰 제한(token limit)** 에 따라 분할됩니다.  \n",
    "- 각 부분(partition)에 대한 요약이 생성됩니다.  \n",
    "- 이 단계는 요약된 결과의 총 길이가 원하는 한도 내에 도달할 때까지 반복됩니다.  \n",
    "- 이를 통해 **임의 길이의 텍스트를 효과적으로 요약**할 수 있습니다.\n",
    "\n",
    "먼저 블로그 게시글을 더 작은 **\"하위 문서(sub documents)\"** 로 분할합니다."
   ]
  },
  {
   "cell_type": "code",
   "execution_count": 20,
   "id": "31f8b789",
   "metadata": {},
   "outputs": [
    {
     "name": "stderr",
     "output_type": "stream",
     "text": [
      "Created a chunk of size 1003, which is longer than the specified 1000\n"
     ]
    },
    {
     "data": {
      "text/plain": [
       "14"
      ]
     },
     "execution_count": 20,
     "metadata": {},
     "output_type": "execute_result"
    }
   ],
   "source": [
    "from langchain_text_splitters import CharacterTextSplitter\n",
    "\n",
    "# 텍스트 분할기 설정\n",
    "text_splitter = CharacterTextSplitter.from_tiktoken_encoder(\n",
    "    chunk_size=1000,   # 각 하위 문서의 최대 문자 수 \n",
    "    chunk_overlap=0    # 각 청크 간의 중첩 문자 수\n",
    ")\n",
    "\n",
    "# 문서를 하위 문서로 분할\n",
    "split_docs = text_splitter.split_documents(docs)\n",
    "\n",
    "# 생성된 하위 문서의 개수 출력\n",
    "len(split_docs)"
   ]
  },
  {
   "cell_type": "markdown",
   "id": "3e7f1c8a-070e-47f0-bcf2-16d6191051ac",
   "metadata": {
    "id": "3e7f1c8a-070e-47f0-bcf2-16d6191051ac"
   },
   "source": [
    "------------\n",
    "다음으로, **그래프(graph)** 를 정의합니다.  \n",
    "\n",
    "여기서는 **\"압축(collapsing)\" 단계**를 설명하기 위해 인위적으로 **1,000 토큰**이라는 낮은 최대 토큰 길이를 설정합니다."
   ]
  },
  {
   "cell_type": "code",
   "execution_count": 22,
   "id": "27cc16de",
   "metadata": {},
   "outputs": [],
   "source": [
    "from langchain_core.documents import Document \n",
    "from langgraph.constants import Send   # 그래프 노드로 상태 전달을 하기 위한 Send 객체\n",
    "from langgraph.graph import END, START, StateGraph   \n",
    "\n",
    "import operator\n",
    "from typing import Annotated, List, Literal, TypedDict\n",
    "\n",
    "from langchain.chains.combine_documents.reduce import (\n",
    "    acollapse_docs,        # 문서를 압축(collapsing)하는 비동기 함수\n",
    "    split_list_of_docs,    # 문서를 나누는 함수\n",
    ")\n",
    "\n",
    "# 최대 토큰 길이 설정\n",
    "token_max = 1000\n",
    "\n",
    "# 문서 길이 계산 함수\n",
    "def length_function(documents: List[Document]) -> int:\n",
    "    \"\"\"\n",
    "    주어진 문서 목록의 총 토큰 수를 반환합니다.\n",
    "    \"\"\"\n",
    "    return sum(llm.get_num_tokens(doc.page_content) for doc in documents)\n",
    "    \n",
    "# 전체 그래프 상태 정의\n",
    "# 문서 내용, 요약, 압축된 요약 및 최종 요약을 포함\n",
    "class OverallState(TypedDict):\n",
    "    contents: List[str]             # 원본 문서 내용 목록\n",
    "    summaries: Annotated[list, operator.add]   # 개별 노드에서 생성된 요약을 합칠 때 사용\n",
    "    collapsed_summaries: List[Document]      # 압축된 요약 목록\n",
    "    final_summary: str           # 최종 요약 결과\n",
    "\n",
    "# 각 문서 요약 단계의 상태 정의: 개별 문서를 처리하는 Map 단계에서 사용\n",
    "class SummaryState(TypedDict):\n",
    "    content: str      # 개별 문서 내용\n",
    "\n",
    "# 문서 요약 생성 (Map 단계)\n",
    "# -각 문서를 개별적으로 LLM에 전달하여 요약을 생성합니다.\n",
    "async def generate_summary(state: SummaryState):\n",
    "    \"\"\"\n",
    "    주어진 문서 내용을 기반으로 요약을 생성합니다.\n",
    "    매개변수:\n",
    "        - state (SummaryState): 요약할 문서의 내용을 포함한 상태 객체입니다.\n",
    "          - state[\"content\"]: 요약 대상 문서의 내용.\n",
    "    반환값:\n",
    "        - dict: 생성된 요약을 포함하는 딕셔너리.\n",
    "          - {\"summaries\": [response.content]}: LLM이 생성한 요약 문자열을 리스트 형태로 반환.\n",
    "    \"\"\"\n",
    "    prompt = map_prompt.invoke(state[\"content\"])   # 현재 문서의 내용이 프롬프트에 삽입\n",
    "    response = await llm.ainvoke(prompt)\n",
    "    return {\"summaries\": [response.content]}\n",
    "\n",
    "# 문서에 대한 매핑 논리를 정의. graph의 edge 로 사용 예정.\n",
    "def map_summaries(state: OverallState):\n",
    "    # Send 객체의 리스트를 반환\n",
    "    # 각 Send 객체는 그래프의 노드 이름과 해당 노드로 전달될 상태(state)로 구성\n",
    "    return [\n",
    "        Send(\"generate_summary\", {\"content\": content}) for content in state[\"contents\"]\n",
    "    ]\n",
    "\n",
    "# 요약 결과 수집:  Map 단계에서 생성된 요약을 수집하여 문서 객체로 변환\n",
    "def collect_summaries(state: OverallState):\n",
    "    return {\n",
    "        \"collapsed_summaries\": [Document(summary) for summary in state[\"summaries\"]]\n",
    "    }\n",
    "\n",
    "# Reduce 단계에서 최종 요약 생성\n",
    "async def _reduce(input: dict) -> str:\n",
    "    \"\"\"\n",
    "    여러 요약을 입력받아 최종적으로 통합된 요약을 생성합니다.\n",
    "\n",
    "    매개변수:\n",
    "        - input (dict): Reduce 단계에서 사용할 입력 데이터입니다.\n",
    "          - input[\"docs\"]: Map 단계에서 생성된 요약들의 목록.\n",
    "\n",
    "    반환값:\n",
    "        - str: 최종적으로 통합된 요약 결과 문자열.\n",
    "    \"\"\"\n",
    "    prompt = reduce_prompt.invoke(input)\n",
    "    response = await llm.ainvoke(prompt)\n",
    "    return response.content\n",
    "\n",
    "# 요약 압축 node 추가. 요약을 분할 및 재귀적으로 압축\n",
    "async def collapse_summaries(state: OverallState):\n",
    "    \"\"\"\n",
    "    Map 단계에서 생성된 요약들을 토큰 제한에 맞게 병합합니다.\n",
    "\n",
    "    매개변수:\n",
    "        - state (OverallState): 전체 요약 상태를 담고 있는 객체입니다.\n",
    "          - state[\"collapsed_summaries\"]: Map 단계에서 생성된 요약 목록.\n",
    "\n",
    "    반환값:\n",
    "        - dict: 병합된 요약을 포함하는 딕셔너리.\n",
    "          - {\"collapsed_summaries\": results}: 병합된 요약 목록.\n",
    "    \"\"\"\n",
    "    doc_lists = split_list_of_docs(\n",
    "        state[\"collapsed_summaries\"], length_function, token_max\n",
    "    )\n",
    "    results = []\n",
    "    for doc_list in doc_lists:\n",
    "        results.append(await acollapse_docs(doc_list, _reduce))\n",
    "\n",
    "    return {\"collapsed_summaries\": results}\n",
    "\n",
    "# 요약 압축 여부 결정 (조건부 Edge)\n",
    "# 토큰 수가 초과되면 'collapse_summaries'로 이동, 아니면 'generate_final_summary'로 이동\n",
    "def should_collapse(\n",
    "    state: OverallState,\n",
    ") -> Literal[\"collapse_summaries\", \"generate_final_summary\"]:\n",
    "    num_tokens = length_function(state[\"collapsed_summaries\"])\n",
    "    if num_tokens > token_max:\n",
    "        return \"collapse_summaries\"\n",
    "    else:\n",
    "        return \"generate_final_summary\"\n",
    "\n",
    "# 최종 요약 생성 (Reduce 단계)\n",
    "async def generate_final_summary(state: OverallState):\n",
    "    response = await _reduce(state[\"collapsed_summaries\"])\n",
    "    return {\"final_summary\": response}\n",
    "\n",
    "# 그래프 구성\n",
    "graph = StateGraph(OverallState)\n",
    "graph.add_node(\"generate_summary\", generate_summary)    # 개별 문서 요약 생성\n",
    "graph.add_node(\"collect_summaries\", collect_summaries)      # 요약 수집\n",
    "graph.add_node(\"collapse_summaries\", collapse_summaries)  # 요약 압축\n",
    "graph.add_node(\"generate_final_summary\", generate_final_summary)  # 최종 요약 생성\n",
    "\n",
    "# 그래프 엣지(Edge) 정의\n",
    "graph.add_conditional_edges(START, map_summaries, [\"generate_summary\"])\n",
    "graph.add_edge(\"generate_summary\", \"collect_summaries\")\n",
    "graph.add_conditional_edges(\"collect_summaries\", should_collapse)\n",
    "graph.add_conditional_edges(\"collapse_summaries\", should_collapse)\n",
    "graph.add_edge(\"generate_final_summary\", END)\n",
    "\n",
    "# 그래프 컴파일\n",
    "app = graph.compile()"
   ]
  },
  {
   "cell_type": "code",
   "execution_count": 23,
   "id": "b8a763df",
   "metadata": {},
   "outputs": [
    {
     "data": {
      "image/png": "[encoded data removed]",
      "text/plain": [
       "<IPython.core.display.Image object>"
      ]
     },
     "execution_count": 23,
     "metadata": {},
     "output_type": "execute_result"
    }
   ],
   "source": [
    "from IPython.display import Image\n",
    "\n",
    "Image(app.get_graph().draw_mermaid_png())"
   ]
  },
  {
   "cell_type": "markdown",
   "id": "678c0200-32df-4faf-bc54-a4dd470f199c",
   "metadata": {
    "id": "678c0200-32df-4faf-bc54-a4dd470f199c"
   },
   "source": [
    "애플리케이션을 실행할 때 **그래프의 단계 순서**를 관찰하기 위해 스트리밍할 수 있습니다. 아래에서는 간단히 각 단계의 이름을 출력합니다.  \n",
    "\n",
    "그래프에 **반복(loop)** 이 포함되어 있기 때문에, 실행 시 [**recursion_limit**](https://langchain-ai.github.io/langgraph/reference/errors/#langgraph.errors.GraphRecursionError)을 지정하는 것이 유용할 수 있습니다.  \n",
    "\n",
    "지정된 한도를 초과하면 **GraphRecursionError**가 발생합니다."
   ]
  },
  {
   "cell_type": "code",
   "execution_count": 24,
   "id": "d74801eb",
   "metadata": {},
   "outputs": [
    {
     "name": "stdout",
     "output_type": "stream",
     "text": [
      "['generate_summary']\n",
      "['generate_summary']\n",
      "['generate_summary']\n",
      "['generate_summary']\n",
      "['generate_summary']\n",
      "['generate_summary']\n",
      "['generate_summary']\n",
      "['generate_summary']\n",
      "['generate_summary']\n",
      "['generate_summary']\n",
      "['generate_summary']\n",
      "['generate_summary']\n",
      "['generate_summary']\n",
      "['generate_summary']\n",
      "['collect_summaries']\n",
      "['collapse_summaries']\n",
      "['collapse_summaries']\n",
      "['generate_final_summary']\n"
     ]
    }
   ],
   "source": [
    "# 그래프를 비동기 스트리밍 방식으로 실행  및 각 단계의 키 출력\n",
    "# - app.astream: 그래프를 비동기적으로 실행하며 각 단계의 결과를 스트림으로 반환\n",
    "# - {\"contents\": [doc.page_content for doc in split_docs]}: 초기 상태로 사용할 문서 내용 목록 전달\n",
    "async for step in app.astream(\n",
    "    {\"contents\": [doc.page_content for doc in split_docs]},\n",
    "    {\"recursion_limit\": 10},      # 재귀 호출 최대 횟수\n",
    "):\n",
    "    print(list(step.keys()))   # 각 단계에서 반환된 상태의 키(key) 목록을 출력"
   ]
  },
  {
   "cell_type": "code",
   "execution_count": 25,
   "id": "33a04a70",
   "metadata": {},
   "outputs": [
    {
     "name": "stdout",
     "output_type": "stream",
     "text": [
      "{'generate_final_summary': {'final_summary': '이 문서는 LLM(대형 언어 모델) 기반 자율 에이전트 시스템의 구조와 기능, 기억의 유형, AI 기술의 발전, 그리고 항암제 발견의 최신 트렌드를 다룹니다. 주요 내용은 다음과 같습니다:\\n\\n1. **자율 에이전트 시스템**: LLM 기반 자율 에이전트는 계획, 기억, 도구 사용의 세 가지 요소로 구성되며, 계획은 하위 목표로 나누고 다양한 추론 기법을 활용합니다. 기억은 단기 및 장기 기억으로 나뉘며, 도구 사용은 외부 API 호출 및 코드 실행을 포함합니다.\\n\\n2. **기억의 유형**: 감각 기억, 단기 기억(작업 기억), 장기 기억으로 구분되며, 각 유형의 특성과 지속 시간이 설명됩니다.\\n\\n3. **AI 기술**: 정보 검색의 효율성을 높이는 다양한 알고리즘과 LLM 학습 방법이 소개됩니다.\\n\\n4. **항암제 발견**: 화합물의 타겟 선택 및 합성과 관련된 최근 트렌드와 인간 행동 모방 실험이 논의됩니다.\\n\\n5. **코드 작성 및 소프트웨어 개발**: 자연어 인터페이스를 활용한 자율적 코드 생성 및 작업 진행 방식이 설명되며, 최선의 관행이 강조됩니다.\\n\\nLilian Weng의 2023년 논문에서는 LLM의 추론 및 문제 해결 능력을 향상시키기 위한 연구와 기법이 소개되며, 여전히 맥락 길이 제한, 신뢰성 문제, 계획 조정의 어려움 등의 도전 과제가 존재함을 언급합니다. 현재 에이전트 시스템은 자연어 인터페이스에 의존하지만, LLM의 출력 신뢰성에 대한 의문과 포맷 오류, 지시 불이행 등의 문제가 발생할 수 있습니다. 이 문서는 LLM의 활용 가능성과 AI 기술의 발전을 통합적으로 탐구하며, 자율 에이전트 시스템의 효율성을 높이기 위한 다양한 접근 방식을 제시합니다.'}}\n"
     ]
    }
   ],
   "source": [
    "print(step)"
   ]
  },
  {
   "cell_type": "markdown",
   "id": "a9e33d11-7a2a-4693-8c87-88b88eebc896",
   "metadata": {
    "id": "a9e33d11-7a2a-4693-8c87-88b88eebc896"
   },
   "source": [
    "------------------\n",
    "해당 [LangSmith 추적](https://smith.langchain.com/o/351c6cd9-1396-5c74-9478-1ee6a22a6433/projects/p/acec9d4d-4978-4597-adff-789cd42e200f?timeModel=%7B%22duration%22%3A%227d%22%7D&peek=970686e5-ca1c-4f48-ada4-aa182bbb7b53)에서 각각의 노드 아래에 그룹화된 개별 LLM 호출을 확인할 수 있습니다.\n"
   ]
  },
  {
   "cell_type": "code",
   "execution_count": null,
   "id": "cc67071e-907c-4e14-b5be-dae7737a8df7",
   "metadata": {},
   "outputs": [],
   "source": []
  }
 ],
 "metadata": {
  "colab": {
   "provenance": []
  },
  "kernelspec": {
   "display_name": "Python 3 (ipykernel)",
   "language": "python",
   "name": "python3"
  },
  "language_info": {
   "codemirror_mode": {
    "name": "ipython",
    "version": 3
   },
   "file_extension": ".py",
   "mimetype": "text/x-python",
   "name": "python",
   "nbconvert_exporter": "python",
   "pygments_lexer": "ipython3",
   "version": "3.9.21"
  }
 },
 "nbformat": 4,
 "nbformat_minor": 5
}
