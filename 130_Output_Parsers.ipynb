{
 "cells": [
  {
   "cell_type": "markdown",
   "id": "fa646510",
   "metadata": {},
   "source": [
    "# Output Parsers\n",
    "\n",
    "모델의 출력 형식을 지정하는 유용한 방법입니다. 일반적으로 구조화된 출력에 사용됩니다.\n",
    "\n",
    "Output parser는 언어 모델의 응답을 구조화하는 데 도움이 되는 클래스입니다. Output parser가 지원하는 두가지 기능은 다음과 같습니다.\n",
    "\n",
    "**1. Format Instructions** : 언어 모델의 출력 형식을 지정하는 방법에 대한 지침이 포함된 문자열을 반환하는 메서드입니다. <br>\n",
    "**2. Parser**: 문자열(언어 모델의 응답으로 가정)을 가져와 이를 어떤 구조(ex. csv, json 등)로 구문 분석하는 메서드입니다."
   ]
  },
  {
   "cell_type": "code",
   "execution_count": 1,
   "id": "ed3f07a4",
   "metadata": {},
   "outputs": [
    {
     "data": {
      "text/plain": [
       "True"
      ]
     },
     "execution_count": 1,
     "metadata": {},
     "output_type": "execute_result"
    }
   ],
   "source": [
    "# read local .env file\n",
    "from dotenv import load_dotenv, find_dotenv\n",
    "load_dotenv(find_dotenv()) "
   ]
  },
  {
   "cell_type": "code",
   "execution_count": 2,
   "id": "715122ad-b113-4ee5-8d25-b0f8a802ad55",
   "metadata": {},
   "outputs": [],
   "source": [
    "from langchain_openai import ChatOpenAI\n",
    "llm = ChatOpenAI(model=\"gpt-4o-mini\")"
   ]
  },
  {
   "cell_type": "markdown",
   "id": "044b2167",
   "metadata": {},
   "source": [
    "### Comma Separated List\n",
    "- `CommaSeparatedListOutputParser` 객체 생성 \n",
    "- 이 객체는 Prompt에 `\"Your response should be a list of comma separated values, eg: foo, bar, baz\"`라는 instruction을 추가해 준다."
   ]
  },
  {
   "cell_type": "code",
   "execution_count": 4,
   "id": "732e3be4",
   "metadata": {},
   "outputs": [
    {
     "data": {
      "text/plain": [
       "'Your response should be a list of comma separated values, eg: `foo, bar, baz` or `foo,bar,baz`'"
      ]
     },
     "execution_count": 4,
     "metadata": {},
     "output_type": "execute_result"
    }
   ],
   "source": [
    "from langchain_core.prompts import PromptTemplate\n",
    "from langchain_core.output_parsers import CommaSeparatedListOutputParser\n",
    "\n",
    "# 콤마로 구분된 리스트 출력 파서 초기화\n",
    "output_parser = CommaSeparatedListOutputParser()\n",
    "\n",
    "# 출력 형식 지침 가져오기\n",
    "format_instructions = output_parser.get_format_instructions()\n",
    "format_instructions"
   ]
  },
  {
   "cell_type": "code",
   "execution_count": 5,
   "id": "c50fcc06",
   "metadata": {},
   "outputs": [
    {
     "name": "stdout",
     "output_type": "stream",
     "text": [
      "Currencies의 예시 5가지를 제공하세요.\n",
      "Your response should be a list of comma separated values, eg: `foo, bar, baz` or `foo,bar,baz`\n"
     ]
    }
   ],
   "source": [
    "# 프롬프트 템플릿 생성\n",
    "prompt = PromptTemplate(\n",
    "    template=\"{query}의 예시 5가지를 제공하세요.\\n{format_instructions}\",  \n",
    "    input_variables=[\"query\"],          # 사용자 입력으로 받을 변수 목록\n",
    "    partial_variables={\"format_instructions\": format_instructions}   # 고정된 값으로 format_instructions 사용\n",
    ")\n",
    "\n",
    "prompt = prompt.format(query=\"Currencies\")\n",
    "print(prompt)"
   ]
  },
  {
   "cell_type": "markdown",
   "id": "1ce6936d",
   "metadata": {},
   "source": [
    "LLM 에 prompt 전달"
   ]
  },
  {
   "cell_type": "code",
   "execution_count": 6,
   "id": "074c1fee",
   "metadata": {},
   "outputs": [
    {
     "name": "stdout",
     "output_type": "stream",
     "text": [
      "USD, EUR, JPY, GBP, AUD\n"
     ]
    }
   ],
   "source": [
    "output = llm.invoke(prompt)\n",
    "print(output.content)"
   ]
  },
  {
   "cell_type": "markdown",
   "id": "7c0c4335",
   "metadata": {},
   "source": [
    "### Json Format   \n",
    "\n",
    "- `StructuredOutputParser` 객체 생성 \n",
    "- 이 객체는 Prompt에 \n",
    "\n",
    "The output should be a markdown code snippet formatted in the following schema, including the leading and trailing \"\\```json\" and \"\\```\":\n",
    "\n",
    "\\```json  \n",
    "{  \n",
    "\t\"currency\": string  // answer to the user's question  \n",
    "\t\"abbrevation\": string  // Whats the abbrebation of that currency  \n",
    "}   \n",
    "\\```  \n",
    "라는 instruction을 생성해 준다."
   ]
  },
  {
   "cell_type": "markdown",
   "id": "22e61c43",
   "metadata": {},
   "source": [
    "- ResponseSchema : prompt 구성할 json의 schema 지정\n",
    "    - name : json key 지정\n",
    "    - description : json value 지정  "
   ]
  },
  {
   "cell_type": "code",
   "execution_count": 7,
   "id": "ec100042",
   "metadata": {},
   "outputs": [],
   "source": [
    "from langchain.output_parsers import StructuredOutputParser, ResponseSchema\n",
    "\n",
    "# 응답 스키마(ResponseSchema) 정의\n",
    "response_schemas = [\n",
    "    # 첫 번째 응답 스키마: 통화에 대한 일반적인 질문에 대한 답변\n",
    "    ResponseSchema(\n",
    "        name=\"currency\",  # 필드 이름\n",
    "        description=\"사용자의 질문에 답하세요.\"  # 필드에 대한 설명\n",
    "    ),\n",
    "    # 두 번째 응답 스키마: 통화의 약어를 제공하는 답변\n",
    "    ResponseSchema(\n",
    "        name=\"abbrevation\",  # 필드 이름\n",
    "        description=\"그 통화의 약어는 무엇인가요?\"  # 필드에 대한 설명\n",
    "    )\n",
    "]"
   ]
  },
  {
   "cell_type": "code",
   "execution_count": 8,
   "id": "fc33fc3a",
   "metadata": {},
   "outputs": [
    {
     "data": {
      "text/plain": [
       "StructuredOutputParser(response_schemas=[ResponseSchema(name='currency', description='사용자의 질문에 답하세요.', type='string'), ResponseSchema(name='abbrevation', description='그 통화의 약어는 무엇인가요?', type='string')])"
      ]
     },
     "execution_count": 8,
     "metadata": {},
     "output_type": "execute_result"
    }
   ],
   "source": [
    "# StructuredOutputParser를 사용하여 출력 파서를 생성\n",
    "output_parser = StructuredOutputParser.from_response_schemas(response_schemas)\n",
    "\n",
    "# 생성된 출력 파서 객체 확인\n",
    "output_parser"
   ]
  },
  {
   "cell_type": "code",
   "execution_count": 9,
   "id": "99da901c",
   "metadata": {},
   "outputs": [
    {
     "name": "stdout",
     "output_type": "stream",
     "text": [
      "The output should be a markdown code snippet formatted in the following schema, including the leading and trailing \"```json\" and \"```\":\n",
      "\n",
      "```json\n",
      "{\n",
      "\t\"currency\": string  // 사용자의 질문에 답하세요.\n",
      "\t\"abbrevation\": string  // 그 통화의 약어는 무엇인가요?\n",
      "}\n",
      "```\n"
     ]
    }
   ],
   "source": [
    "# 출력 포맷 지침을 가져옵니다. \n",
    "# get_format_instructions() 메서드는 StructuredOutputParser가 예상하는 출력 형식을 설명하는 문자열 반환\n",
    "format_instructions = output_parser.get_format_instructions()\n",
    "\n",
    "print(format_instructions)"
   ]
  },
  {
   "cell_type": "code",
   "execution_count": 10,
   "id": "77c5edbb",
   "metadata": {},
   "outputs": [
    {
     "data": {
      "text/plain": [
       "PromptTemplate(input_variables=['query'], input_types={}, partial_variables={'format_instructions': 'The output should be a markdown code snippet formatted in the following schema, including the leading and trailing \"```json\" and \"```\":\\n\\n```json\\n{\\n\\t\"currency\": string  // 사용자의 질문에 답하세요.\\n\\t\"abbrevation\": string  // 그 통화의 약어는 무엇인가요?\\n}\\n```'}, template='사용자의 질문에 가능한 최선의 답변을 제공합니다.\\n{format_instructions}\\n{query}')"
      ]
     },
     "execution_count": 10,
     "metadata": {},
     "output_type": "execute_result"
    }
   ],
   "source": [
    "# PromptTemplate를 사용하여 프롬프트 템플릿을 생성합니다.\n",
    "prompt_template = PromptTemplate(\n",
    "    template=\"사용자의 질문에 가능한 최선의 답변을 제공합니다.\\n{format_instructions}\\n{query}\",  # AI 모델이 따를 지침과 입력 변수를 정의\n",
    "    input_variables=[\"query\"],       # 사용자로부터 제공될 입력 변수\n",
    "    partial_variables={\"format_instructions\": format_instructions}  # 사전에 정의된 포맷 지침\n",
    ")\n",
    "\n",
    "prompt_template"
   ]
  },
  {
   "cell_type": "markdown",
   "id": "6e3059d2-9a9c-4445-93c5-8bef5e2a1455",
   "metadata": {},
   "source": [
    "- 최종 완성된 prompt"
   ]
  },
  {
   "cell_type": "code",
   "execution_count": 15,
   "id": "ff141052",
   "metadata": {},
   "outputs": [
    {
     "name": "stdout",
     "output_type": "stream",
     "text": [
      "사용자의 질문에 가능한 최선의 답변을 제공합니다.\n",
      "The output should be a markdown code snippet formatted in the following schema, including the leading and trailing \"```json\" and \"```\":\n",
      "\n",
      "```json\n",
      "{\n",
      "\t\"currency\": string  // 사용자의 질문에 답하세요.\n",
      "\t\"abbrevation\": string  // 그 통화의 약어는 무엇인가요?\n",
      "}\n",
      "```\n",
      "미국의 통화는 무엇인가요?\n"
     ]
    }
   ],
   "source": [
    "prompt = prompt_template.format(query=\"미국의 통화는 무엇인가요?\")\n",
    "print(prompt)"
   ]
  },
  {
   "cell_type": "markdown",
   "id": "792e3024-22fc-46d1-9528-951021eda075",
   "metadata": {},
   "source": [
    "- llm에 prompt 전달"
   ]
  },
  {
   "cell_type": "code",
   "execution_count": 16,
   "id": "9e1c69de",
   "metadata": {},
   "outputs": [
    {
     "name": "stdout",
     "output_type": "stream",
     "text": [
      "```json\n",
      "{\n",
      "\t\"currency\": \"United States Dollar\",\n",
      "\t\"abbrevation\": \"USD\"\n",
      "}\n",
      "```\n"
     ]
    }
   ],
   "source": [
    "output = llm.invoke(prompt)\n",
    "print(output.content)"
   ]
  },
  {
   "cell_type": "code",
   "execution_count": null,
   "id": "893c8c23",
   "metadata": {},
   "outputs": [],
   "source": []
  }
 ],
 "metadata": {
  "kernelspec": {
   "display_name": "Python 3 (ipykernel)",
   "language": "python",
   "name": "python3"
  },
  "language_info": {
   "codemirror_mode": {
    "name": "ipython",
    "version": 3
   },
   "file_extension": ".py",
   "mimetype": "text/x-python",
   "name": "python",
   "nbconvert_exporter": "python",
   "pygments_lexer": "ipython3",
   "version": "3.9.21"
  }
 },
 "nbformat": 4,
 "nbformat_minor": 5
}
