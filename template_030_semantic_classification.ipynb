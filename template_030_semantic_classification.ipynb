{
 "cells": [
  {
   "cell_type": "markdown",
   "id": "oN_ewigHqpO0",
   "metadata": {
    "id": "oN_ewigHqpO0"
   },
   "source": [
    "# 구조화된 출력 (Structured Output)\n",
    "\n",
    "**텍스트를 라벨로 분류하기**\n",
    "\n",
    "**태깅(Tagging)**이란 문서의 종류를 분류하여 **라벨링(Labeling)**하는 것을 의미합니다: 예) 긍정적, 부정적, 중립적\n",
    "\n",
    "![이미지 설명](https://github.com/langchain-ai/langchain/blob/master/docs/static/img/tagging.png?raw=1)\n",
    "\n",
    "---\n",
    "\n",
    "## **개요 (Overview)**  \n",
    "\n",
    "**태깅(Tagging)**은 몇 가지 주요 구성 요소로 이루어집니다:  \n",
    "\n",
    "- **`function`**: 추출(Extraction)과 마찬가지로, 태깅은 함수(Functions)를 사용하여 모델이 문서를 어떻게 태깅해야 하는지 명시합니다.  \n",
    "- **`schema`**: 문서를 어떻게 태깅할지 정의합니다 --> Pydantic 데이터 모델을 이용하여 정의"
   ]
  },
  {
   "cell_type": "code",
   "execution_count": null,
   "id": "53226f7a",
   "metadata": {},
   "outputs": [],
   "source": [
    "# !pip install -qU \\\n",
    "# python-dotenv \\\n",
    "# langchain \\\n",
    "# langchain-community \\\n",
    "# openai \\\n",
    "# anthropic \\\n",
    "# langchain-openai \\\n",
    "# langchain-anthropic \\\n",
    "# langchain-google-genai \\\n",
    "# python-dotenv"
   ]
  },
  {
   "cell_type": "code",
   "execution_count": null,
   "id": "235ac488",
   "metadata": {},
   "outputs": [],
   "source": []
  },
  {
   "cell_type": "code",
   "execution_count": null,
   "id": "2061072e",
   "metadata": {},
   "outputs": [],
   "source": []
  },
  {
   "cell_type": "markdown",
   "id": "b8ca3f93",
   "metadata": {
    "id": "b8ca3f93"
   },
   "source": [
    "## Schema 정의와 도구 호출 **  \n",
    "\n",
    "LangChain에서 OpenAI의 **도구 호출(Tool Calling)** 기능을 사용하여 태깅을 수행하는 간단한 예제를 살펴보겠습니다.  \n",
    "\n",
    "- OpenAI 모델에서 지원하는 `with_structured_output` 메서드를 사용할 것입니다.  \n",
    "\n",
    "스키마에 몇 가지 속성과 예상 유형을 추가하여 Pydantic 모델을 지정해 보겠습니다."
   ]
  },
  {
   "cell_type": "code",
   "execution_count": null,
   "id": "d6ae16e4",
   "metadata": {},
   "outputs": [],
   "source": [
    "# 프롬프트 템플릿 정의\n",
    "# 주어진 텍스트에서 필요한 정보를 추출하도록 지침 제공\n",
    "# Pydantic 데이터 모델을 이용하여 텍스트에서 추출할 속성 정의\n",
    "class Classification_1(BaseModel):\n",
    "# OpenAI GPT-4o-mini 모델을 사용하여 Structured Output(구조화된 출력) 생성"
   ]
  },
  {
   "cell_type": "code",
   "execution_count": null,
   "id": "d4d74935",
   "metadata": {},
   "outputs": [],
   "source": []
  },
  {
   "cell_type": "markdown",
   "id": "ff3cf30d",
   "metadata": {
    "id": "ff3cf30d"
   },
   "source": [
    "사전 출력을 원하면 `.model_dump()`를 호출하면 됩니다."
   ]
  },
  {
   "cell_type": "code",
   "execution_count": null,
   "id": "f8fb2ccc",
   "metadata": {},
   "outputs": [],
   "source": []
  },
  {
   "cell_type": "markdown",
   "id": "d921bb53",
   "metadata": {
    "id": "d921bb53"
   },
   "source": [
    "예제에서 볼 수 있듯이, 모델은 우리가 원하는 바를 정확하게 해석합니다.  \n",
    "\n",
    "다음 섹션에서는 이러한 결과를 어떻게 제어할 수 있는지 살펴보겠습니다."
   ]
  },
  {
   "cell_type": "markdown",
   "id": "bebb2f83",
   "metadata": {
    "id": "bebb2f83"
   },
   "source": [
    "## **더 세밀한 출력 제어**\n",
    "\n",
    "**스키마(schema)**를 더 자세히 정의하면 모델의 출력을 더 세밀하게 제어할 수 있습니다.  \n",
    "\n",
    "구체적으로 다음을 정의할 수 있습니다:  \n",
    "\n",
    "- **각 속성의 가능한 값**  \n",
    "- **속성을 모델이 정확하게 이해할 수 있도록 설명 추가**  \n",
    "- **반드시 반환해야 할 필수 속성**  "
   ]
  },
  {
   "cell_type": "markdown",
   "id": "69ef0b9a",
   "metadata": {
    "id": "69ef0b9a"
   },
   "source": [
    "이전에 언급한 각 요소를 제어하기 위해 **Enums**를 사용하여 우리의 **Pydantic 모델**을 다시 선언해봅시다.\n",
    "\n"
   ]
  },
  {
   "cell_type": "code",
   "execution_count": null,
   "id": "fc3328ed",
   "metadata": {},
   "outputs": [],
   "source": [
    "class Classification_2(BaseModel):\n",
    "# OpenAI GPT-4o-mini 모델을 사용하여 Structured Output(구조화된 출력) 생성"
   ]
  },
  {
   "cell_type": "markdown",
   "id": "5ded2332",
   "metadata": {
    "id": "5ded2332"
   },
   "source": [
    "이제 답변은 우리가 예상하는 방식으로 제한될 것입니다!"
   ]
  },
  {
   "cell_type": "code",
   "execution_count": null,
   "id": "0c5f6b3a",
   "metadata": {},
   "outputs": [],
   "source": []
  },
  {
   "cell_type": "code",
   "execution_count": null,
   "id": "52fade83",
   "metadata": {},
   "outputs": [],
   "source": []
  },
  {
   "cell_type": "code",
   "execution_count": null,
   "id": "06e92c6c",
   "metadata": {},
   "outputs": [],
   "source": []
  },
  {
   "cell_type": "markdown",
   "id": "e92c582f-592d-4ea4-86a4-38dc99775af6",
   "metadata": {},
   "source": [
    "### **구조화된 출력 (Structured Outputs)과 함수 호출**\n",
    " \n",
    "챗봇과 같은 많은 애플리케이션에서는 모델이 사용자에게 **자연어로 직접 응답**해야 합니다. 그러나 경우에 따라 모델이 **구조화된 형식(structured format)**으로 출력을 제공해야 할 필요가 있습니다.  \n",
    "\n",
    "예를 들어, 모델의 출력을 **데이터베이스에 저장**해야 하는 상황에서 출력이 데이터베이스 **스키마(schema)**에 맞도록 보장해야 할 수 있습니다.  \n",
    "\n",
    "이러한 필요성은 **구조화된 출력(Structured Output)** 개념을 부각시키며, 이를 통해 모델이 **특정 출력 구조**를 따르도록 지시할 수 있습니다.  \n",
    "\n",
    "**핵심 포인트:**  \n",
    "- 자연어 응답이 아닌 **구조화된 데이터**로 응답.  \n",
    "- 데이터베이스, API 등과의 호환성을 보장.  \n",
    "- 스키마를 따르는 일관된 형식으로 데이터 제공.\n",
    "\n",
    "구조화된 출력은 특히 **데이터베이스 저장, API 연동, 데이터 처리** 등 다양한 응용 분야에서 중요한 역할을 합니다. "
   ]
  },
  {
   "cell_type": "code",
   "execution_count": null,
   "id": "8a6bc3f1",
   "metadata": {},
   "outputs": [],
   "source": [
    "# 사용자 정의 함수 또는 외부 API\n",
    "def get_weather(location: str, unit: str = \"섭씨\"):"
   ]
  },
  {
   "cell_type": "code",
   "execution_count": null,
   "id": "2c917adb",
   "metadata": {},
   "outputs": [],
   "source": [
    "# 스키마 정의\n",
    "# 스키마를 모델에 바인딩\n",
    "# 사용자 입력\n",
    "# 사용자 입력을 받아 스키마에 맞는 구조화된 출력을 생성하도록 모델 호출"
   ]
  },
  {
   "cell_type": "code",
   "execution_count": null,
   "id": "a5bdd1c8",
   "metadata": {},
   "outputs": [],
   "source": [
    "# structured_output을 함수 파라미터로 전달"
   ]
  },
  {
   "cell_type": "markdown",
   "id": "df3fa434-df54-4fc3-9812-82e07810c34b",
   "metadata": {},
   "source": [
    "### **스키마를 도구로서 모델에 바인딩**"
   ]
  },
  {
   "cell_type": "code",
   "execution_count": null,
   "id": "07eeb287",
   "metadata": {},
   "outputs": [],
   "source": [
    "# 사용자에게 응답을 구조화하기 위한 도구 정의\n",
    "class ResponseFormatter(BaseModel):"
   ]
  },
  {
   "cell_type": "code",
   "execution_count": null,
   "id": "d1dd3daa",
   "metadata": {},
   "outputs": [],
   "source": [
    "# 스키마를 도구로 모델에 바인딩하여, 스키마를 따르는 출력을 생성하도록 설정  \n",
    "# 모델 호출"
   ]
  },
  {
   "cell_type": "code",
   "execution_count": null,
   "id": "bd777b98",
   "metadata": {},
   "outputs": [],
   "source": []
  },
  {
   "cell_type": "code",
   "execution_count": null,
   "id": "98dd466a",
   "metadata": {},
   "outputs": [],
   "source": []
  },
  {
   "cell_type": "code",
   "execution_count": null,
   "id": "d9f8cf4c",
   "metadata": {},
   "outputs": [],
   "source": []
  }
 ],
 "metadata": {
  "colab": {
   "provenance": []
  },
  "kernelspec": {
   "display_name": "Python 3 (ipykernel)",
   "language": "python",
   "name": "python3"
  },
  "language_info": {
   "codemirror_mode": {
    "name": "ipython",
    "version": 3
   },
   "file_extension": ".py",
   "mimetype": "text/x-python",
   "name": "python",
   "nbconvert_exporter": "python",
   "pygments_lexer": "ipython3",
   "version": "3.9.21"
  }
 },
 "nbformat": 4,
 "nbformat_minor": 5
}
