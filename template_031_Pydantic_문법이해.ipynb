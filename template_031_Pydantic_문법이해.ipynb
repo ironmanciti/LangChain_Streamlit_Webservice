{
 "cells": [
  {
   "cell_type": "markdown",
   "id": "3fba4ead-7f5a-4bd4-904a-ae5f482830e6",
   "metadata": {},
   "source": [
    "# Typedict\n",
    "\n",
    "TypedDict는 Python 3.8에서 도입된 기능으로, 딕셔너리의 각 키에 대해 특정 타입을 지정할 수 있게 해줍니다. 이를 통해 코드의 가독성과 유지보수성을 높이고, 정적 타입 검사 도구(예: mypy)를 활용하여 타입 오류를 사전에 방지할 수 있습니다.  \n",
    "\n",
    "주요 특징:\n",
    "- 키-값 타입 지정: 딕셔너리의 각 키에 대해 예상되는 값의 타입을 명시적으로 정의할 수 있습니다.  \n",
    "- 정적 타입 검사 지원: TypedDict로 정의된 구조는 정적 타입 검사 도구와 함께 사용되어, 코드 작성 시 타입 불일치를 사전에 감지할 수 있습니다.   \n",
    "- 선택적 및 필수 키 구분: 필요에 따라 특정 키를 필수 또는 선택적으로 지정할 수 있습니다."
   ]
  },
  {
   "cell_type": "code",
   "execution_count": null,
   "id": "4a90c2b5",
   "metadata": {},
   "outputs": [],
   "source": [
    "class Movie(TypedDict):\n",
    "# Movie라는 타입을 가진 movie 변수를 정의하고, 해당 변수에 영화 정보를 담은 딕셔너리를 할당"
   ]
  },
  {
   "cell_type": "markdown",
   "id": "61d6a716-1c71-4bea-8e9b-6b2f0cb1acad",
   "metadata": {},
   "source": [
    "# Pydantic\n",
    "\n",
    "Pydantic은 Python에서 데이터 유효성 검사와 설정 관리를 위한 라이브러리로, 타입 힌트를 활용하여 데이터 모델을 정의하고 검증하는 데 중점을 둡니다."
   ]
  },
  {
   "cell_type": "markdown",
   "id": "206d53bb-dab9-49d6-8a3f-34fab61974b1",
   "metadata": {},
   "source": [
    "### 1. 기본 모델 정의 및 데이터 검증\n",
    "Pydantic을 사용하면 데이터 모델을 정의하고, 입력 데이터의 유효성을 자동으로 검사할 수 있습니다.\n",
    "\n",
    "예) Product 모델은 id, name, price 필드를 가지며, 각각 정수, 문자열, 부동소수점 숫자로 정의되어 있습니다."
   ]
  },
  {
   "cell_type": "code",
   "execution_count": null,
   "id": "14058ad9",
   "metadata": {},
   "outputs": [],
   "source": [
    "class Product(BaseModel):"
   ]
  },
  {
   "cell_type": "code",
   "execution_count": null,
   "id": "15ef8277",
   "metadata": {},
   "outputs": [],
   "source": [
    "# 유효한 데이터"
   ]
  },
  {
   "cell_type": "code",
   "execution_count": null,
   "id": "564f7d53",
   "metadata": {},
   "outputs": [],
   "source": [
    "# 유효하지 않은 데이터"
   ]
  },
  {
   "cell_type": "markdown",
   "id": "4eb38e5d-2e42-42c4-b8e2-860a8866a61d",
   "metadata": {},
   "source": [
    "### 2. 선택적 필드와 기본값\n",
    "Pydantic을 사용하면 선택적 필드와 기본값을 쉽게 정의할 수 있습니다.  \n",
    "\n",
    "다음 예에서 department 필드는 선택 사항이며 기본값은 None입니다. is_active 필드는 기본값이 True로 설정되어 있습니다."
   ]
  },
  {
   "cell_type": "code",
   "execution_count": null,
   "id": "012b534b",
   "metadata": {},
   "outputs": [],
   "source": [
    "class Employee(BaseModel):\n",
    "# Employee 인스턴스 생성"
   ]
  },
  {
   "cell_type": "markdown",
   "id": "5ee1f5eb-e7c4-4024-a2ac-58579fe41981",
   "metadata": {},
   "source": [
    "### 3. 중첩 모델\n",
    "Pydantic은 다른 모델을 필드로 포함하여 복잡한 데이터 구조를 표현할 수 있습니다.  \n",
    "\n",
    "다음 코드에서 User 모델은 여러 개의 Address를 가질 수 있으며, 이를 통해 복잡한 데이터 구조를 표현합니다."
   ]
  },
  {
   "cell_type": "code",
   "execution_count": null,
   "id": "cea11468",
   "metadata": {},
   "outputs": [],
   "source": [
    "# 주소 정보를 나타내는 모델\n",
    "class Address(BaseModel):\n",
    "# 사용자 정보를 나타내는 모델\n",
    "class User(BaseModel):\n",
    "# User 인스턴스 생성"
   ]
  },
  {
   "cell_type": "code",
   "execution_count": null,
   "id": "d35f7209",
   "metadata": {},
   "outputs": [],
   "source": [
    "# # User 인스턴스 생성\n",
    "# user = User(\n",
    "#     id='abc',            # 사용자 ID\n",
    "#     name=123,  # 사용자 이름\n",
    "#     addresses=[       # 주소 목록\n",
    "#         Address(street=\"123 Main St\", city=\"Seoul\", country=\"South Korea\"),\n",
    "#         Address(street=\"456 Side St\", city=\"New York\", country=\"USA\") \n",
    "#     ]\n",
    "# )"
   ]
  },
  {
   "cell_type": "markdown",
   "id": "c2723861-2f5e-487c-bad6-cc8b0f5927df",
   "metadata": {},
   "source": [
    "### 4. 데이터 직렬화 및 역직렬화\n",
    "Pydantic 모델은 JSON과 같은 형식으로 쉽게 변환할 수 있으며, 그 반대도 가능합니다.  \n",
    "\n",
    "다음 코드에서 Item 모델은 딕셔너리나 JSON 문자열로 변환될 수 있으며, 이를 통해 데이터베이스 저장, 네트워크 전송 등을 쉽게 처리할 수 있습니다."
   ]
  },
  {
   "cell_type": "code",
   "execution_count": null,
   "id": "92a328d5",
   "metadata": {},
   "outputs": [],
   "source": [
    "# 상품 정보를 나타내는 데이터 모델\n",
    "class Item(BaseModel):\n",
    "# Item 인스턴스 생성\n",
    "# 모델을 딕셔너리로 변환\n",
    "# 모델을 JSON 문자열로 변환\n",
    "# 딕셔너리로부터 모델 생성"
   ]
  },
  {
   "cell_type": "markdown",
   "id": "9602d8b1-6e6f-496a-abb3-9b7d05151f9d",
   "metadata": {},
   "source": [
    "### 5. 커스텀 유효성 검사\n",
    "Pydantic은 `@field_validator` 데코레이터를 사용하여 필드에 대한 추가적인 유효성 검사를 정의할 수 있습니다.  \n",
    "\n",
    "다음 코드에서 check_age 메서드는 age 필드가 0에서 150 사이의 값인지 확인하며, 그렇지 않으면 ValueError를 발생시킵니다."
   ]
  },
  {
   "cell_type": "code",
   "execution_count": null,
   "id": "63f4f75d",
   "metadata": {},
   "outputs": [],
   "source": [
    "# 사용자 정보를 나타내는 데이터 모델\n",
    "class User(BaseModel):\n",
    "    # 나이(age) 필드에 대한 유효성 검사\n",
    "    def check_age(cls, v):\n",
    "# 유효한 나이로 User 객체 생성\n",
    "# 유효하지 않은 나이로 User 객체 생성 시 예외 처리"
   ]
  },
  {
   "cell_type": "markdown",
   "id": "0fbaa3e1-30b0-49d4-8562-e425d0fc2411",
   "metadata": {},
   "source": [
    "# Enum\n",
    "\n",
    "열거형이라고도 하며, 서로 연관된 상수들의 집합을 정의하는 데 사용되는 특별한 데이터 타입입니다. 이를 통해 변수는 미리 정의된 값들 중 하나만을 가질 수 있게 제한되며, 코드의 가독성과 안정성을 높이는 데 기여합니다.\n",
    "\n",
    "### 주요 특징:\n",
    "- 타입 안전성 보장: 열거형을 사용하면 변수에 허용되지 않은 값이 할당되는 것을 방지하여, 코드의 안정성을 높일 수 있습니다.  \n",
    "- 가독성 향상: 관련된 상수들을 그룹화하여 의미를 명확히 표현함으로써, 코드의 가독성을 향상시킵니다.  \n",
    "- 상수 그룹화: 관련된 상수들을 하나의 열거형으로 묶어 관리할 수 있습니다."
   ]
  },
  {
   "cell_type": "code",
   "execution_count": null,
   "id": "e562b68e",
   "metadata": {},
   "outputs": [],
   "source": [
    "class Day(Enum):"
   ]
  },
  {
   "cell_type": "markdown",
   "id": "28e959b5-d32d-4108-b620-cbde63d847e2",
   "metadata": {},
   "source": [
    "# Pydantic 과 Enum 을 결합한 예제"
   ]
  },
  {
   "cell_type": "code",
   "execution_count": null,
   "id": "8160a94e",
   "metadata": {},
   "outputs": [],
   "source": [
    "# 사용자 역할을 정의하는 열거형(Enum)\n",
    "class Role(Enum):\n",
    "# 사용자 모델 정의\n",
    "class User(BaseModel):\n",
    "    def is_admin(self) -> bool:"
   ]
  },
  {
   "cell_type": "code",
   "execution_count": null,
   "id": "501ca66f",
   "metadata": {},
   "outputs": [],
   "source": [
    "# 유효한 사용자 데이터 예제"
   ]
  },
  {
   "cell_type": "code",
   "execution_count": null,
   "id": "699f8720",
   "metadata": {},
   "outputs": [],
   "source": [
    "# 유효하지 않은 사용자 데이터 예제 (잘못된 role 값)"
   ]
  },
  {
   "cell_type": "code",
   "execution_count": null,
   "id": "25c7b7cd",
   "metadata": {},
   "outputs": [],
   "source": [
    "# 유효하지 않은 사용자 데이터 예제 (나이 범위 초과)"
   ]
  },
  {
   "cell_type": "code",
   "execution_count": null,
   "id": "1ccedf02",
   "metadata": {},
   "outputs": [],
   "source": []
  }
 ],
 "metadata": {
  "kernelspec": {
   "display_name": "Python 3 (ipykernel)",
   "language": "python",
   "name": "python3"
  },
  "language_info": {
   "codemirror_mode": {
    "name": "ipython",
    "version": 3
   },
   "file_extension": ".py",
   "mimetype": "text/x-python",
   "name": "python",
   "nbconvert_exporter": "python",
   "pygments_lexer": "ipython3",
   "version": "3.9.21"
  }
 },
 "nbformat": 4,
 "nbformat_minor": 5
}
