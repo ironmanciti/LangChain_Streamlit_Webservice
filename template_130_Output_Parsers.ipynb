{
 "cells": [
  {
   "cell_type": "markdown",
   "id": "fa646510",
   "metadata": {},
   "source": [
    "# Output Parsers\n",
    "\n",
    "모델의 출력 형식을 지정하는 유용한 방법입니다. 일반적으로 구조화된 출력에 사용됩니다.\n",
    "\n",
    "Output parser는 언어 모델의 응답을 구조화하는 데 도움이 되는 클래스입니다. Output parser가 지원하는 두가지 기능은 다음과 같습니다.\n",
    "\n",
    "**1. Format Instructions** : 언어 모델의 출력 형식을 지정하는 방법에 대한 지침이 포함된 문자열을 반환하는 메서드입니다.\n",
    "**2. Parser**: 문자열(언어 모델의 응답으로 가정)을 가져와 이를 어떤 구조(ex. csv, json 등)로 구문 분석하는 메서드입니다."
   ]
  },
  {
   "cell_type": "code",
   "execution_count": null,
   "id": "173ad427",
   "metadata": {},
   "outputs": [],
   "source": [
    "# read local .env file"
   ]
  },
  {
   "cell_type": "code",
   "execution_count": null,
   "id": "9c8b1fec",
   "metadata": {},
   "outputs": [],
   "source": []
  },
  {
   "cell_type": "code",
   "execution_count": null,
   "id": "a39895a2",
   "metadata": {},
   "outputs": [],
   "source": []
  },
  {
   "cell_type": "markdown",
   "id": "6dc69726",
   "metadata": {},
   "source": [
    "### Comma Separated List"
   ]
  },
  {
   "cell_type": "markdown",
   "id": "044b2167",
   "metadata": {},
   "source": [
    "- `CommaSeparatedListOutputParser` 객체 생성 \n",
    "- 이 객체는 Prompt에 `\"Your response should be a list of comma separated values, eg: foo, bar, baz\"`라는 instruction을 추가해 준다."
   ]
  },
  {
   "cell_type": "code",
   "execution_count": null,
   "id": "75746038",
   "metadata": {},
   "outputs": [],
   "source": []
  },
  {
   "cell_type": "code",
   "execution_count": null,
   "id": "064380b6",
   "metadata": {},
   "outputs": [],
   "source": []
  },
  {
   "cell_type": "code",
   "execution_count": null,
   "id": "e3e3287d",
   "metadata": {},
   "outputs": [],
   "source": [
    "# 프롬프트 템플릿 생성"
   ]
  },
  {
   "cell_type": "code",
   "execution_count": null,
   "id": "dd9624fb",
   "metadata": {},
   "outputs": [],
   "source": []
  },
  {
   "cell_type": "markdown",
   "id": "1ce6936d",
   "metadata": {},
   "source": [
    "LLM 에 prompt 전달"
   ]
  },
  {
   "cell_type": "code",
   "execution_count": null,
   "id": "a36c41ca",
   "metadata": {},
   "outputs": [],
   "source": []
  },
  {
   "cell_type": "markdown",
   "id": "7c0c4335",
   "metadata": {},
   "source": [
    "### Json Format   \n",
    "\n",
    "- `StructuredOutputParser` 객체 생성 \n",
    "- 이 객체는 Prompt에 \n",
    "\n",
    "The output should be a markdown code snippet formatted in the following schema, including the leading and trailing \"\\```json\" and \"\\```\":\n",
    "\n",
    "\\```json  \n",
    "{  \n",
    "\t\"currency\": string  // answer to the user's question  \n",
    "\t\"abbrevation\": string  // Whats the abbrebation of that currency  \n",
    "}   \n",
    "\\```  \n",
    "라는 instruction을 생성해 준다."
   ]
  },
  {
   "cell_type": "markdown",
   "id": "22e61c43",
   "metadata": {},
   "source": [
    "- ResponseSchema : prompt 구성할 json의 schema 지정\n",
    "    - name : json key 지정\n",
    "    - description : json value 지정  "
   ]
  },
  {
   "cell_type": "code",
   "execution_count": null,
   "id": "7a58fe45",
   "metadata": {},
   "outputs": [],
   "source": [
    "# 응답 스키마(ResponseSchema) 정의\n",
    "    # 첫 번째 응답 스키마: 통화에 대한 일반적인 질문에 대한 답변\n",
    "    # 두 번째 응답 스키마: 통화의 약어를 제공하는 답변"
   ]
  },
  {
   "cell_type": "code",
   "execution_count": null,
   "id": "f2da56eb",
   "metadata": {},
   "outputs": [],
   "source": [
    "# StructuredOutputParser를 사용하여 출력 파서를 생성합니다.\n",
    "# response_schemas: 응답 스키마를 정의하는 객체로, 예상되는 출력 형식을 명확하게 지정합니다.\n",
    "# 생성된 출력 파서 객체를 확인합니다."
   ]
  },
  {
   "cell_type": "code",
   "execution_count": null,
   "id": "a4b15be4",
   "metadata": {},
   "outputs": [],
   "source": [
    "# 출력 포맷 지침을 가져옵니다. \n",
    "# get_format_instructions() 메서드는 StructuredOutputParser가 예상하는 출력 형식을 설명하는 문자열을 반환합니다."
   ]
  },
  {
   "cell_type": "code",
   "execution_count": null,
   "id": "df94eb61",
   "metadata": {},
   "outputs": [],
   "source": [
    "# PromptTemplate를 사용하여 프롬프트 템플릿을 생성합니다."
   ]
  },
  {
   "cell_type": "code",
   "execution_count": null,
   "id": "c1c79881",
   "metadata": {},
   "outputs": [],
   "source": []
  },
  {
   "cell_type": "markdown",
   "id": "55402d47",
   "metadata": {},
   "source": [
    "- 최종 완성된 prompt"
   ]
  },
  {
   "cell_type": "code",
   "execution_count": null,
   "id": "6e8e20a1",
   "metadata": {},
   "outputs": [],
   "source": []
  },
  {
   "cell_type": "code",
   "execution_count": null,
   "id": "721179db",
   "metadata": {},
   "outputs": [],
   "source": []
  },
  {
   "cell_type": "code",
   "execution_count": null,
   "id": "ff4ab46f",
   "metadata": {},
   "outputs": [],
   "source": []
  }
 ],
 "metadata": {
  "kernelspec": {
   "display_name": "Python 3 (ipykernel)",
   "language": "python",
   "name": "python3"
  },
  "language_info": {
   "codemirror_mode": {
    "name": "ipython",
    "version": 3
   },
   "file_extension": ".py",
   "mimetype": "text/x-python",
   "name": "python",
   "nbconvert_exporter": "python",
   "pygments_lexer": "ipython3",
   "version": "3.9.21"
  }
 },
 "nbformat": 4,
 "nbformat_minor": 5
}
